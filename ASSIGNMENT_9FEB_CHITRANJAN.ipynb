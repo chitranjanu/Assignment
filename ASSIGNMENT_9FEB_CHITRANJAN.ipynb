{
 "cells": [
  {
   "cell_type": "code",
   "execution_count": 11,
   "id": "200db824",
   "metadata": {},
   "outputs": [],
   "source": [
    "# Answer1.\n",
    "\n",
    "class vehicle:\n",
    "    def __init__(self,name_of_vehicle,max_speed,average_of_vehicle):\n",
    "        self.name_of_vehicle = name_of_vehicle \n",
    "        self.max_speed = max_speed \n",
    "        self.average_of_vehicle = average_of_vehicle \n",
    "\n",
    "\n",
    "car = vehicle(\"Tesla model S\",250,200)    "
   ]
  },
  {
   "cell_type": "code",
   "execution_count": 13,
   "id": "afb9cda9",
   "metadata": {},
   "outputs": [],
   "source": [
    "# Answer2.\n",
    "class Car(vehicle):\n",
    "    def __init__(self, name_of_vehicle, max_speed, average_of_vehicle):\n",
    "        super().__init__(name_of_vehicle, max_speed, average_of_vehicle)\n",
    "    \n",
    "    def seating_capacity(self, capacity):\n",
    "        return f\"{self.name_of_vehicle} has a seating capacity of {capacity} people.\""
   ]
  },
  {
   "cell_type": "code",
   "execution_count": 14,
   "id": "de1715e2",
   "metadata": {},
   "outputs": [
    {
     "name": "stdout",
     "output_type": "stream",
     "text": [
      "Tesla Model S has a seating capacity of 5 people.\n"
     ]
    }
   ],
   "source": [
    "car = Car(\"Tesla Model S\", 250, 220)\n",
    "print(car.seating_capacity(5))"
   ]
  },
  {
   "cell_type": "code",
   "execution_count": 15,
   "id": "037e386f",
   "metadata": {},
   "outputs": [
    {
     "name": "stdout",
     "output_type": "stream",
     "text": [
      "This is method A\n",
      "This is method B\n",
      "This is method C\n"
     ]
    }
   ],
   "source": [
    "# Answer3.\n",
    "\"\"\"Multiple inheritance is a feature in object-oriented programming that allows a class to inherit \n",
    "from more than one parent class. This means that a child class can have access to attributes and\n",
    "methods from multiple parent classes.\"\"\"\n",
    "\n",
    "# Eg.\n",
    "class A:\n",
    "    def method_a(self):\n",
    "        print(\"This is method A\")\n",
    "\n",
    "class B:\n",
    "    def method_b(self):\n",
    "        print(\"This is method B\")\n",
    "\n",
    "class C(A, B):\n",
    "    def method_c(self):\n",
    "        print(\"This is method C\")\n",
    "\n",
    "obj = C()\n",
    "obj.method_a()  # This is method A\n",
    "obj.method_b()  # This is method B\n",
    "obj.method_c()  # This is method C"
   ]
  },
  {
   "cell_type": "code",
   "execution_count": 16,
   "id": "90da41e9",
   "metadata": {},
   "outputs": [],
   "source": [
    "# Answer4.\n",
    "\"\"\"In Python, a getter and setter are methods that are used to access and modify the value of an\n",
    "object's attributes respectively. \n",
    "They are used to encapsulate the attributes and control how they are accessed and modified.\"\"\"\n",
    "\n",
    "# Eg.\n",
    "class Person:\n",
    "    def __init__(self, name):\n",
    "        self._name = name\n",
    "    \n",
    "    def get_name(self):\n",
    "        return self._name\n",
    "    \n",
    "    def set_name(self, name):\n",
    "        self._name = name"
   ]
  },
  {
   "cell_type": "code",
   "execution_count": 17,
   "id": "52a62047",
   "metadata": {},
   "outputs": [
    {
     "name": "stdout",
     "output_type": "stream",
     "text": [
      "The animal makes a sound\n",
      "The cat meows\n",
      "The dog barks\n"
     ]
    }
   ],
   "source": [
    "# Answer5\n",
    "\"\"\"Method overriding is a feature in object-oriented programming that allows a child class \n",
    "to provide its own implementation of a method that is already defined in its parent class. \n",
    "This allows the child class to customize the behavior of the method to suit its own needs.\"\"\"\n",
    "\n",
    "# Eg. \n",
    "class Animal:\n",
    "    def make_sound(self):\n",
    "        print(\"The animal makes a sound\")\n",
    "\n",
    "class Cat(Animal):\n",
    "    def make_sound(self):\n",
    "        print(\"The cat meows\")\n",
    "\n",
    "class Dog(Animal):\n",
    "    def make_sound(self):\n",
    "        print(\"The dog barks\")\n",
    "\n",
    "animal = Animal()\n",
    "animal.make_sound()  # The animal makes a sound\n",
    "\n",
    "cat = Cat()\n",
    "cat.make_sound()  # The cat meows\n",
    "\n",
    "dog = Dog()\n",
    "dog.make_sound()  # The dog barks\n"
   ]
  },
  {
   "cell_type": "code",
   "execution_count": null,
   "id": "b8fe1f7a",
   "metadata": {},
   "outputs": [],
   "source": []
  }
 ],
 "metadata": {
  "kernelspec": {
   "display_name": "Python 3",
   "language": "python",
   "name": "python3"
  },
  "language_info": {
   "codemirror_mode": {
    "name": "ipython",
    "version": 3
   },
   "file_extension": ".py",
   "mimetype": "text/x-python",
   "name": "python",
   "nbconvert_exporter": "python",
   "pygments_lexer": "ipython3",
   "version": "3.8.8"
  }
 },
 "nbformat": 4,
 "nbformat_minor": 5
}
