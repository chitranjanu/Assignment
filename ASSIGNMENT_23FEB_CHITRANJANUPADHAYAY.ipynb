{
 "cells": [
  {
   "cell_type": "code",
   "execution_count": 61,
   "id": "cd9e1c1e",
   "metadata": {},
   "outputs": [
    {
     "name": "stdout",
     "output_type": "stream",
     "text": [
      "0     4\n",
      "1    18\n",
      "2    15\n",
      "3    16\n",
      "4    23\n",
      "5    42\n",
      "dtype: int64\n"
     ]
    }
   ],
   "source": [
    "# Answer1. \n",
    "import pandas as pd\n",
    "\n",
    "data = [4, 18, 15, 16, 23, 42]\n",
    "my_series = pd.Series(data)\n",
    "\n",
    "print(my_series)"
   ]
  },
  {
   "cell_type": "code",
   "execution_count": 63,
   "id": "c2371a3e",
   "metadata": {},
   "outputs": [
    {
     "name": "stdout",
     "output_type": "stream",
     "text": [
      "0     1\n",
      "1     2\n",
      "2     3\n",
      "3     4\n",
      "4     5\n",
      "5     6\n",
      "6     7\n",
      "7     8\n",
      "8     9\n",
      "9    10\n",
      "dtype: int64\n"
     ]
    }
   ],
   "source": [
    "# Answer2.\n",
    "import pandas as pd\n",
    "\n",
    "my_list = [1, 2, 3, 4, 5, 6, 7, 8, 9, 10]\n",
    "\n",
    "my_series = pd.Series(my_list)\n",
    "\n",
    "print(my_series)"
   ]
  },
  {
   "cell_type": "code",
   "execution_count": 64,
   "id": "c028a4d4",
   "metadata": {},
   "outputs": [
    {
     "name": "stdout",
     "output_type": "stream",
     "text": [
      "     Name  Age  Gender\n",
      "0   Alice   25  Female\n",
      "1     Bob   30    Male\n",
      "2  Claire   27  Female\n"
     ]
    }
   ],
   "source": [
    "# Answer3.\n",
    "import pandas as pd\n",
    "\n",
    "data = {\n",
    "    'Name': ['Alice', 'Bob','Claire'],\n",
    "    'Age': [25, 30,27],\n",
    "    'Gender': ['Female', 'Male','Female']\n",
    "}\n",
    "\n",
    "df = pd.DataFrame(data)\n",
    "\n",
    "print(df)"
   ]
  },
  {
   "cell_type": "code",
   "execution_count": 65,
   "id": "51a6dc77",
   "metadata": {},
   "outputs": [
    {
     "name": "stdout",
     "output_type": "stream",
     "text": [
      "0    1\n",
      "1    2\n",
      "2    3\n",
      "3    4\n",
      "dtype: int64\n",
      "   A    B    C\n",
      "0  1  foo  0.1\n",
      "1  2  bar  0.2\n",
      "2  3  baz  0.3\n",
      "3  4  qux  0.4\n"
     ]
    }
   ],
   "source": [
    "# Answer4.\n",
    "'''In pandas, a DataFrame is a two-dimensional table-like data structure that consists of rows and columns. It can be thought of as a spreadsheet or a SQL table. Each column in a DataFrame can be of a different data type (e.g., integer, float, string, etc.). DataFrames provide a powerful and flexible way to manipulate and analyze data.\n",
    "\n",
    "On the other hand, a pandas Series is a one-dimensional labeled array that can contain data of any type (e.g., integer, float, string, etc.). Each element in a Series is labeled with an index, which can be used to access and manipulate the data. A Series is similar to a column in a DataFrame, but without the row labels.\n",
    "\n",
    "Here's an example to illustrate the difference between a pandas Series and DataFrame:'''\n",
    "\n",
    "import pandas as pd\n",
    "\n",
    "# Create a Series\n",
    "my_series = pd.Series([1, 2, 3, 4])\n",
    "\n",
    "# Create a DataFrame\n",
    "my_dataframe = pd.DataFrame({\n",
    "    'A': [1, 2, 3, 4],\n",
    "    'B': ['foo', 'bar', 'baz', 'qux'],\n",
    "    'C': [0.1, 0.2, 0.3, 0.4]\n",
    "})\n",
    "\n",
    "# Print the Series and DataFrame\n",
    "print(my_series)\n",
    "print(my_dataframe)"
   ]
  },
  {
   "cell_type": "code",
   "execution_count": 66,
   "id": "52640cdd",
   "metadata": {},
   "outputs": [
    {
     "name": "stdout",
     "output_type": "stream",
     "text": [
      "      Name  Age  Gender  Salary\n",
      "0    Alice   25  Female   50000\n",
      "1      Bob   30    Male   70000\n",
      "2  Charlie   35    Male   60000\n",
      "      Name  Age  Gender  Salary\n",
      "2  Charlie   35    Male   60000\n",
      "3    David   40    Male   80000\n",
      "4      Eva   45  Female   90000\n",
      "             Age        Salary\n",
      "count   5.000000      5.000000\n",
      "mean   35.000000  70000.000000\n",
      "std     7.905694  15811.388301\n",
      "min    25.000000  50000.000000\n",
      "25%    30.000000  60000.000000\n",
      "50%    35.000000  70000.000000\n",
      "75%    40.000000  80000.000000\n",
      "max    45.000000  90000.000000\n",
      "<class 'pandas.core.frame.DataFrame'>\n",
      "RangeIndex: 5 entries, 0 to 4\n",
      "Data columns (total 4 columns):\n",
      " #   Column  Non-Null Count  Dtype \n",
      "---  ------  --------------  ----- \n",
      " 0   Name    5 non-null      object\n",
      " 1   Age     5 non-null      int64 \n",
      " 2   Gender  5 non-null      object\n",
      " 3   Salary  5 non-null      int64 \n",
      "dtypes: int64(2), object(2)\n",
      "memory usage: 288.0+ bytes\n",
      "None\n"
     ]
    }
   ],
   "source": [
    "# Answer5.\n",
    "'''Pandas provide a lot of functions to manipulate and transform data in a DataFrame. Here are some commonly used functions:\n",
    "\n",
    "head() and tail(): to view the first or last n rows of a DataFrame.\n",
    "describe(): to get statistical summary of the DataFrame.\n",
    "info(): to get the basic information about the DataFrame such as data type, count of non-null values, etc.\n",
    "groupby(): to group data based on one or more columns and perform an operation on the groups.\n",
    "apply(): to apply a function to each element, row or column of the DataFrame.'''\n",
    "    \n",
    "import pandas as pd\n",
    "\n",
    "# Create a DataFrame\n",
    "data = {\n",
    "    'Name': ['Alice', 'Bob', 'Charlie', 'David', 'Eva'],\n",
    "    'Age': [25, 30, 35, 40, 45],\n",
    "    'Gender': ['Female', 'Male', 'Male', 'Male', 'Female'],\n",
    "    'Salary': [50000, 70000, 60000, 80000, 90000]\n",
    "}\n",
    "\n",
    "df = pd.DataFrame(data)\n",
    "\n",
    "# View the first and last 3 rows\n",
    "print(df.head(3))\n",
    "print(df.tail(3))\n",
    "\n",
    "# Get the statistical summary\n",
    "print(df.describe())\n",
    "\n",
    "# Get the basic information\n",
    "print(df.info())"
   ]
  },
  {
   "cell_type": "code",
   "execution_count": null,
   "id": "121134f3",
   "metadata": {},
   "outputs": [],
   "source": [
    "# Answer6.\n",
    "In Pandas, both Series and DataFrame are mutable, while Panel is considered deprecated since \n",
    "version 1.0.0 and replaced by multi-dimensional arrays, such as 3D NumPy arrays or xarray."
   ]
  },
  {
   "cell_type": "code",
   "execution_count": 67,
   "id": "34db8208",
   "metadata": {},
   "outputs": [
    {
     "name": "stdout",
     "output_type": "stream",
     "text": [
      "      Name  Age  Gender\n",
      "0    Alice   25  Female\n",
      "1      Bob   30    Male\n",
      "2  Charlie   35    Male\n"
     ]
    }
   ],
   "source": [
    "# Answer7.\n",
    "import pandas as pd\n",
    "\n",
    "# Create Series for each column\n",
    "names = pd.Series(['Alice', 'Bob', 'Charlie'])\n",
    "ages = pd.Series([25, 30, 35])\n",
    "genders = pd.Series(['Female', 'Male', 'Male'])\n",
    "\n",
    "# Create a dictionary of Series\n",
    "data = {'Name': names, 'Age': ages, 'Gender': genders}\n",
    "\n",
    "# Create a DataFrame from the dictionary\n",
    "df = pd.DataFrame(data)\n",
    "\n",
    "print(df)"
   ]
  }
 ],
 "metadata": {
  "kernelspec": {
   "display_name": "Python 3",
   "language": "python",
   "name": "python3"
  },
  "language_info": {
   "codemirror_mode": {
    "name": "ipython",
    "version": 3
   },
   "file_extension": ".py",
   "mimetype": "text/x-python",
   "name": "python",
   "nbconvert_exporter": "python",
   "pygments_lexer": "ipython3",
   "version": "3.8.8"
  }
 },
 "nbformat": 4,
 "nbformat_minor": 5
}
