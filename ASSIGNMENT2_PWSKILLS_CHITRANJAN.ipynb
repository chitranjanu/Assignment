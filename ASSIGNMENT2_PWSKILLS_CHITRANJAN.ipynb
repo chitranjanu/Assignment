{
 "cells": [
  {
   "cell_type": "code",
   "execution_count": 6,
   "id": "f9c17b5d",
   "metadata": {},
   "outputs": [
    {
     "name": "stdout",
     "output_type": "stream",
     "text": [
      "[('Virat Kohli', 24936), ('Jack Kallis', 25534), ('Ricky Ponting', 27483), ('Sachin Tendulkar', 34357)]\n"
     ]
    }
   ],
   "source": [
    "# Answer1.\n",
    "batter_runs =[('Sachin Tendulkar',34357),('Ricky Ponting',27483),('Jack Kallis',25534),('Virat Kohli',24936)]\n",
    "\n",
    "batter_runs.sort(key = lambda x : x[1])\n",
    "\n",
    "print(batter_runs)"
   ]
  },
  {
   "cell_type": "code",
   "execution_count": 11,
   "id": "1387d3b8",
   "metadata": {},
   "outputs": [
    {
     "name": "stdout",
     "output_type": "stream",
     "text": [
      "[1, 4, 9, 16, 25, 36, 49, 64, 81, 100]\n"
     ]
    }
   ],
   "source": [
    "# Answer2. \n",
    "\n",
    "my_list = [1,2,3,4,5,6,7,8,9,10]\n",
    "\n",
    "# Finding the square using map and lambda function\n",
    "square_list = list(map(lambda x : x**2, my_list))\n",
    "\n",
    "print(square_list)\n"
   ]
  },
  {
   "cell_type": "code",
   "execution_count": 18,
   "id": "12d72258",
   "metadata": {},
   "outputs": [
    {
     "name": "stdout",
     "output_type": "stream",
     "text": [
      "Original List : [1, 2, 3, 4, 5, 6, 7, 8, 9, 10]\n",
      "The final tuple is : ('1', '2', '3', '4', '5', '6', '7', '8', '9', '10')\n"
     ]
    }
   ],
   "source": [
    "# Answer3. \n",
    "my_list = [1,2,3,4,5,6,7,8,9,10]\n",
    "\n",
    "print(\"Original List :\",my_list)\n",
    "\n",
    "# Creating tuple of string from list of intergers\n",
    "\n",
    "Final_tuple = tuple(map(lambda x: str(x),my_list))\n",
    "\n",
    "# Printing the Final Tuple\n",
    "print(\"The final tuple is :\",Final_tuple)"
   ]
  },
  {
   "cell_type": "code",
   "execution_count": 34,
   "id": "0b282b85",
   "metadata": {},
   "outputs": [
    {
     "name": "stdout",
     "output_type": "stream",
     "text": [
      "[1, 2, 3, 4, 5, 6, 7, 8, 9, 10, 11, 12, 13, 14, 15, 16, 17, 18, 19, 20, 21, 22, 23, 24, 25]\n",
      "The product of list is : 15511210043330985984000000\n"
     ]
    }
   ],
   "source": [
    "# Answer4. \n",
    "from functools import reduce\n",
    "\n",
    "# Creating a list till 25 numbers\n",
    "my_list = [x for x in range(1,26)]\n",
    "\n",
    "# Printing the list\n",
    "print(my_list)\n",
    "\n",
    "# Use reduce function to get the products of numbers\n",
    "product_list = reduce(lambda x,y: x*y,my_list)\n",
    "\n",
    "# Printing the final product list\n",
    "print(\"The product of list is :\",product_list)"
   ]
  },
  {
   "cell_type": "code",
   "execution_count": 46,
   "id": "cc4a0c30",
   "metadata": {},
   "outputs": [
    {
     "name": "stdout",
     "output_type": "stream",
     "text": [
      "The Original list: [2, 3, 6, 9, 27, 60, 90, 120, 55, 46]\n",
      "The final list is : [6, 60, 90, 120]\n"
     ]
    }
   ],
   "source": [
    "# Answer5\n",
    "my_list = [2,3,6,9,27,60,90,120,55,46]\n",
    "\n",
    "# Printing the given list \n",
    "print(\"The Original list:\",my_list)\n",
    "\n",
    "# Using filter function to filter the numbers divisible by 2 and 3 \n",
    "filter_list = list(filter(lambda x: x%2 == 0 and x%3 == 0,my_list))\n",
    "\n",
    "# Printing final list \n",
    "print(\"The final list is :\",filter_list)"
   ]
  },
  {
   "cell_type": "code",
   "execution_count": 49,
   "id": "6cc6c2e4",
   "metadata": {},
   "outputs": [
    {
     "name": "stdout",
     "output_type": "stream",
     "text": [
      "The original list to check is: ['python', 'php', 'aba', 'radar', 'level']\n",
      "The Final list is: ['php', 'aba', 'radar', 'level']\n"
     ]
    }
   ],
   "source": [
    "# Answer6 \n",
    "my_list = ['python','php','aba','radar','level']\n",
    "\n",
    "# Printing original list\n",
    "print(\"The original list to check is:\", my_list)\n",
    "\n",
    "# Creating Palindrome list to check palindrome strings via filter and lambda functions\n",
    "palindrome_list = list(filter(lambda s : s == s[::-1],my_list))\n",
    "\n",
    "# Printing final list \n",
    "print(\"The Final list is:\",palindrome_list)"
   ]
  },
  {
   "cell_type": "code",
   "execution_count": null,
   "id": "fefb966b",
   "metadata": {},
   "outputs": [],
   "source": []
  }
 ],
 "metadata": {
  "kernelspec": {
   "display_name": "Python 3",
   "language": "python",
   "name": "python3"
  },
  "language_info": {
   "codemirror_mode": {
    "name": "ipython",
    "version": 3
   },
   "file_extension": ".py",
   "mimetype": "text/x-python",
   "name": "python",
   "nbconvert_exporter": "python",
   "pygments_lexer": "ipython3",
   "version": "3.8.8"
  }
 },
 "nbformat": 4,
 "nbformat_minor": 5
}
