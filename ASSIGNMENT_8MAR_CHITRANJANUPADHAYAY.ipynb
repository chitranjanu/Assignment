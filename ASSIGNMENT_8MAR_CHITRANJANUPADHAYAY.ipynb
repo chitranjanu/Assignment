{
 "cells": [
  {
   "cell_type": "code",
   "execution_count": null,
   "id": "689d7bea",
   "metadata": {},
   "outputs": [],
   "source": [
    "# Answer1.\n",
    "\n",
    "A probability density function (PDF) is a mathematical function that describes the likelihood of a continuous random variable taking on a certain value within a given range of values. The PDF is a non-negative function that integrates to 1 over its domain, which represents the entire range of possible outcomes for the random variable.\n",
    "\n",
    "The PDF is used to describe the probability distribution of a continuous random variable, such as the height or weight of a population, or the speed of particles in a gas. The PDF provides information about the relative likelihood of different outcomes, and can be used to calculate the probability of a random variable taking on a particular value or falling within a specific range of values.\n",
    "\n",
    "The PDF is typically represented graphically as a curve on a graph, with the horizontal axis representing the possible values of the random variable and the vertical axis representing the probability density. The area under the curve between two values on the horizontal axis represents the probability of the random variable falling within that range of values."
   ]
  },
  {
   "cell_type": "code",
   "execution_count": null,
   "id": "fb169cf7",
   "metadata": {},
   "outputs": [],
   "source": [
    "# Answer2.\n",
    "\n",
    "There are several different types of probability distributions that are commonly used in statistics and probability theory. Here are some of the most important ones:\n",
    "\n",
    "Normal distribution: This is a continuous probability distribution that is often used to model real-world phenomena, such as the distribution of heights or weights in a population. The normal distribution is characterized by its bell-shaped curve and two parameters: the mean and the standard deviation.\n",
    "\n",
    "Binomial distribution: This is a discrete probability distribution that describes the probability of obtaining a certain number of successes in a fixed number of trials, where each trial has only two possible outcomes (e.g. success or failure). The binomial distribution is characterized by two parameters: the probability of success in each trial and the number of trials.\n",
    "\n",
    "Poisson distribution: This is a discrete probability distribution that is used to model the number of occurrences of a rare event within a fixed interval of time or space. The Poisson distribution is characterized by a single parameter, which represents the expected number of occurrences.\n",
    "\n",
    "Exponential distribution: This is a continuous probability distribution that is used to model the time between occurrences of a rare event. The exponential distribution is characterized by a single parameter, which represents the rate at which the events occur.\n",
    "\n",
    "Gamma distribution: This is a continuous probability distribution that is used to model the waiting time until a certain number of events have occurred. The gamma distribution is characterized by two parameters: a shape parameter and a scale parameter.\n",
    "\n",
    "Uniform distribution: This is a continuous probability distribution that is used to model a situation where all values within a given range are equally likely. The uniform distribution is characterized by two parameters: the lower and upper bounds of the range.\n",
    "\n",
    "These are just a few examples of the many probability distributions that are used in statistics and probability theory."
   ]
  },
  {
   "cell_type": "code",
   "execution_count": 2,
   "id": "aab94203",
   "metadata": {},
   "outputs": [
    {
     "name": "stdout",
     "output_type": "stream",
     "text": [
      "0.24197072451914337\n"
     ]
    }
   ],
   "source": [
    "# Answer3. \n",
    "\n",
    "'''Here's an example Python function that uses the scipy library to calculate the probability\n",
    "density function (PDF) of a normal distribution at a given point x, with a specified mean mu and \n",
    "standard deviation sigma:''' \n",
    "\n",
    "from scipy.stats import norm\n",
    "\n",
    "def normal_pdf(x, mu, sigma):\n",
    "    \"\"\"\n",
    "    Calculate the probability density function of a normal distribution at a given point x,\n",
    "    with a specified mean mu and standard deviation sigma.\n",
    "    \"\"\"\n",
    "    return norm.pdf(x, mu, sigma)\n",
    "\n",
    "pdf = normal_pdf(1, 0, 1)\n",
    "print(pdf)"
   ]
  },
  {
   "cell_type": "code",
   "execution_count": null,
   "id": "ed2512c8",
   "metadata": {},
   "outputs": [],
   "source": [
    "# Answer4. \n",
    "\n",
    "The binomial distribution is a discrete probability distribution that describes the number of successes in a fixed number of independent trials, where each trial has only two possible outcomes (e.g. success or failure). Here are some of the key properties of the binomial distribution:\n",
    "\n",
    "The binomial distribution is defined by two parameters: the probability of success in each trial (denoted by p) and the number of trials (denoted by n).\n",
    "The probability of exactly k successes in n trials is given by the binomial probability mass function: P(X = k) = (n choose k) * p^k * (1-p)^(n-k), where (n choose k) is the binomial coefficient.\n",
    "The mean of the binomial distribution is given by mu = n * p, and the variance is given by sigma^2 = n * p * (1-p).\n",
    "The binomial distribution is symmetric if p=0.5 and becomes increasingly skewed as p gets closer to 0 or 1.\n",
    "Here are two examples of events where the binomial distribution can be applied:\n",
    "\n",
    "Flipping a coin: When flipping a fair coin, there are two possible outcomes (heads or tails) and the probability of getting heads on any given flip is 0.5. If we flip the coin n times, the number of heads we get follows a binomial distribution with parameters n and p=0.5.\n",
    "Manufacturing defects: A manufacturer produces a batch of 1000 light bulbs, and the probability of a bulb being defective is 0.01. If we randomly select 100 bulbs from the batch, the number of defective bulbs we get follows a binomial distribution with parameters n=100 and p=0.01."
   ]
  },
  {
   "cell_type": "code",
   "execution_count": 3,
   "id": "1ab557cb",
   "metadata": {},
   "outputs": [
    {
     "data": {
      "image/png": "[encoded data removed]",
      "text/plain": [
       "<Figure size 432x288 with 1 Axes>"
      ]
     },
     "metadata": {
      "needs_background": "light"
     },
     "output_type": "display_data"
    }
   ],
   "source": [
    "# Answer5. \n",
    "\n",
    "import numpy as np\n",
    "import matplotlib.pyplot as plt\n",
    "\n",
    "# Set the seed for reproducibility\n",
    "np.random.seed(123)\n",
    "\n",
    "# Generate a random sample of size 1000 from a binomial distribution with parameters n=1 and p=0.4\n",
    "sample = np.random.binomial(n=1, p=0.4, size=1000)\n",
    "\n",
    "# Plot a histogram of the sample\n",
    "plt.hist(sample, bins=2, edgecolor='black')\n",
    "plt.xlabel('Success (1) / Failure (0)')\n",
    "plt.ylabel('Frequency')\n",
    "plt.title('Binomial Distribution (n=1, p=0.4)')\n",
    "plt.show()"
   ]
  },
  {
   "cell_type": "code",
   "execution_count": 4,
   "id": "c810aa13",
   "metadata": {},
   "outputs": [
    {
     "name": "stdout",
     "output_type": "stream",
     "text": [
      "0.857123460498547\n"
     ]
    }
   ],
   "source": [
    "# Answer6. \n",
    "\n",
    "from scipy.stats import poisson\n",
    "\n",
    "def poisson_cdf(x, mu):\n",
    "    \"\"\"\n",
    "    Calculate the cumulative distribution function of a Poisson distribution at a given point x,\n",
    "    with a specified mean mu.\n",
    "    \"\"\"\n",
    "    return poisson.cdf(x, mu)\n",
    "\n",
    "cdf = poisson_cdf(3, 2)\n",
    "print(cdf)"
   ]
  },
  {
   "cell_type": "code",
   "execution_count": null,
   "id": "d19889d8",
   "metadata": {},
   "outputs": [],
   "source": [
    "# Answer7.\n",
    "\n",
    "The binomial distribution and Poisson distribution are both commonly used probability distributions in statistics, but they have different characteristics and are used in different situations. Here are some of the key differences between the two distributions:\n",
    "\n",
    "Nature of the trials: The binomial distribution models the number of successes in a fixed number of independent trials, each with two possible outcomes (success or failure). The Poisson distribution models the number of rare events (such as accidents, defects, or arrivals) that occur in a fixed interval of time or space, where the events occur randomly and independently.\n",
    "\n",
    "Number of trials: The binomial distribution requires a fixed number of trials to be specified in advance, while the Poisson distribution does not. Instead, the Poisson distribution is characterized by a single parameter, lambda, which represents the average number of events that occur in the given interval.\n",
    "\n",
    "Probability of success: In the binomial distribution, the probability of success is constant across all trials and is denoted by p. In the Poisson distribution, the probability of an event occurring in a given interval is proportional to the length of the interval, and the parameter lambda represents the expected number of events in the entire interval.\n",
    "\n",
    "Shape of the distribution: The binomial distribution is a discrete distribution that can take on only integer values, while the Poisson distribution is also discrete but can take on any non-negative integer value. The binomial distribution is often bell-shaped (symmetric) if p=0.5, while the Poisson distribution is often right-skewed.\n",
    "\n",
    "Conditions of applicability: The binomial distribution is applicable when the trials are independent, the probability of success is constant across all trials, and the number of trials is fixed. The Poisson distribution is applicable when the events occur randomly and independently, the rate of occurrence is constant across the given interval, and the probability of more than one event occurring in a very short interval is negligible.\n",
    "\n",
    "In summary, while both the binomial distribution and Poisson distribution are used to model the number of occurrences of events, they are based on different assumptions and are used in different situations."
   ]
  },
  {
   "cell_type": "code",
   "execution_count": 5,
   "id": "333c0222",
   "metadata": {},
   "outputs": [
    {
     "name": "stdout",
     "output_type": "stream",
     "text": [
      "Sample mean: 4.919\n",
      "Sample variance: 5.030\n"
     ]
    }
   ],
   "source": [
    "# Answer8. \n",
    "\n",
    "import numpy as np\n",
    "\n",
    "# Set the seed for reproducibility\n",
    "np.random.seed(123)\n",
    "\n",
    "# Generate a random sample of size 1000 from a Poisson distribution with mean 5\n",
    "sample = np.random.poisson(lam=5, size=1000)\n",
    "\n",
    "# Calculate the sample mean and variance\n",
    "mean = np.mean(sample)\n",
    "variance = np.var(sample)\n",
    "\n",
    "# Print the results\n",
    "print(\"Sample mean: {:.3f}\".format(mean))\n",
    "print(\"Sample variance: {:.3f}\".format(variance))"
   ]
  },
  {
   "cell_type": "code",
   "execution_count": null,
   "id": "00b81fc8",
   "metadata": {},
   "outputs": [],
   "source": [
    "# Answer9.\n",
    "\n",
    "In the binomial distribution, the mean (expected value) and variance are related as follows:\n",
    "\n",
    "Mean = n * p\n",
    "Variance = n * p * (1 - p)\n",
    "Here, n is the number of trials, and p is the probability of success in each trial. As you can see, the variance increases with n and with p*(1-p).\n",
    "\n",
    "In the Poisson distribution, the mean (expected value) and variance are also related, but in a slightly different way:\n",
    "\n",
    "Mean = variance = lambda\n",
    "Here, lambda is the parameter that represents the average rate of occurrence of events in the given interval. In other words, the mean and variance are both equal to lambda, regardless of the specific values of lambda or the number of events."
   ]
  },
  {
   "cell_type": "code",
   "execution_count": null,
   "id": "95055e83",
   "metadata": {},
   "outputs": [],
   "source": [
    "# Answer10.\n",
    "\n",
    "In a normal distribution, the least frequent data appears in the tails of the distribution, which are the regions farther away from the mean. The tails of a normal distribution extend infinitely in both directions, but the vast majority of the data falls within a few standard deviations of the mean. Specifically, about 68% of the data falls within one standard deviation of the mean, about 95% of the data falls within two standard deviations of the mean, and about 99.7% of the data falls within three standard deviations of the mean.\n",
    "\n",
    "Therefore, the data that appears in the tails of the distribution, which are more than three standard deviations away from the mean, is the least frequent. This is because the probability density function of the normal distribution decreases rapidly as you move away from the mean. In fact, the tails of the normal distribution approach zero as you move further away from the mean, which means that the probability of observing values in these regions is extremely low"
   ]
  }
 ],
 "metadata": {
  "kernelspec": {
   "display_name": "Python 3",
   "language": "python",
   "name": "python3"
  },
  "language_info": {
   "codemirror_mode": {
    "name": "ipython",
    "version": 3
   },
   "file_extension": ".py",
   "mimetype": "text/x-python",
   "name": "python",
   "nbconvert_exporter": "python",
   "pygments_lexer": "ipython3",
   "version": "3.8.8"
  }
 },
 "nbformat": 4,
 "nbformat_minor": 5
}
