{
 "cells": [
  {
   "cell_type": "code",
   "execution_count": 2,
   "id": "f3885fdf",
   "metadata": {},
   "outputs": [
    {
     "name": "stdout",
     "output_type": "stream",
     "text": [
      "mammal\n",
      "I'm a mammal\n",
      "I'm a dog\n"
     ]
    }
   ],
   "source": [
    "# Answer1. \n",
    "#                                     CLASS\n",
    "    \n",
    "# A class is a user-defined blueprint or prototype from which objects are created. \n",
    "# Classes provide a means of bundling data and functionality together.\n",
    "# Each class instance can have attributes attached to it for maintaining its state. \n",
    "# Class instances can also have methods (defined by their class) for modifying their state.\n",
    "\n",
    "#                                    OBJECT \n",
    "\n",
    "# An Object is an instance of a Class. \n",
    "# A class is like a blueprint while an instance is a copy of the class with actual values. \n",
    "# It’s not an idea anymore, it’s an actual dog\n",
    "# An object consists of : \n",
    "# State: It is represented by the attributes of an object. \n",
    "#        It also reflects the properties of an object.\n",
    "# Behaviour: It is represented by the methods of an object. \n",
    "#            It also reflects the response of an object to other objects.\n",
    "# Identity: It gives a unique name to an object and enables one object to interact with other objects.\n",
    "    \n",
    "# Eg.     \n",
    "class Dog:\n",
    " \n",
    "    # A simple class\n",
    "    # attribute\n",
    "    attr1 = \"mammal\"\n",
    "    attr2 = \"dog\"\n",
    " \n",
    "    # A sample method\n",
    "    def fun(self):\n",
    "        print(\"I'm a\", self.attr1)\n",
    "        print(\"I'm a\", self.attr2)\n",
    " \n",
    " \n",
    "# Driver code\n",
    "# Object instantiation\n",
    "Rodger = Dog()\n",
    " \n",
    "# Accessing class attributes\n",
    "# and method through objects\n",
    "print(Rodger.attr1)\n",
    "Rodger.fun()"
   ]
  },
  {
   "cell_type": "code",
   "execution_count": 4,
   "id": "4105e008",
   "metadata": {},
   "outputs": [],
   "source": [
    "# Answer2. \n",
    "The four pillars of OOPS are Inheritance, Polymorphism, Encapsulation and Abstraction."
   ]
  },
  {
   "cell_type": "code",
   "execution_count": 5,
   "id": "4485a2ca",
   "metadata": {},
   "outputs": [
    {
     "name": "stdout",
     "output_type": "stream",
     "text": [
      "John\n",
      "36\n"
     ]
    }
   ],
   "source": [
    "# Answer3. \n",
    "# All classes have a function called __init__(), which is always executed when the class is being initiated.\n",
    "\n",
    "# Use the __init__() function to assign values to object properties, or other operations that are \n",
    "# necessary to do when the object is being created:\n",
    "    \n",
    "# Eg. \n",
    "class Person:\n",
    "  def __init__(self, name, age):\n",
    "    self.name = name\n",
    "    self.age = age\n",
    "\n",
    "p1 = Person(\"John\", 36)\n",
    "\n",
    "print(p1.name)\n",
    "print(p1.age)"
   ]
  },
  {
   "cell_type": "code",
   "execution_count": 6,
   "id": "24e43e08",
   "metadata": {},
   "outputs": [],
   "source": [
    "# Answer4. \n",
    "The self is used to represent the instance of the class.\n",
    "With this keyword, you can access the attributes and methods of the class in python.\n",
    "It binds the attributes with the given arguments"
   ]
  },
  {
   "cell_type": "code",
   "execution_count": null,
   "id": "9e999bed",
   "metadata": {},
   "outputs": [],
   "source": [
    "# Answer5. \n",
    "Inheritance is the capability of one class to derive or inherit the properties from another class.\n",
    "Inheritance allows us to define a class that inherits all the methods and properties from another class.\n",
    "\n",
    "Parent class is the class being inherited from, also called base class.\n",
    "\n",
    "Child class is the class that inherits from another class, also called derived class.\n",
    "\n",
    "\n",
    "Different types of Inheritance:\n",
    "Single inheritance: When a child class inherits from only one parent class,\n",
    "                    it is called single inheritance. We saw an example above.\n",
    "Multiple inheritances: When a child class inherits from multiple parent classes, \n",
    "                       it is called multiple inheritances\n"
   ]
  }
 ],
 "metadata": {
  "kernelspec": {
   "display_name": "Python 3",
   "language": "python",
   "name": "python3"
  },
  "language_info": {
   "codemirror_mode": {
    "name": "ipython",
    "version": 3
   },
   "file_extension": ".py",
   "mimetype": "text/x-python",
   "name": "python",
   "nbconvert_exporter": "python",
   "pygments_lexer": "ipython3",
   "version": "3.8.8"
  }
 },
 "nbformat": 4,
 "nbformat_minor": 5
}
