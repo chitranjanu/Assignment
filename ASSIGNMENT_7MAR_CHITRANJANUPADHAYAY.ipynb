{
 "cells": [
  {
   "cell_type": "code",
   "execution_count": null,
   "id": "0779762f",
   "metadata": {},
   "outputs": [],
   "source": [
    "# Answer1.\n",
    "The three measures of central tendency are:\n",
    "\n",
    "Mean: The mean is the average of a set of numbers. It is calculated by adding up all the values in the set and dividing by the total number of values.\n",
    "\n",
    "Median: The median is the middle value in a set of numbers when they are arranged in order. If the\n",
    "    set has an odd number of values, the median is the middle number. If the set has an even number\n",
    "    of values, the median is the average of the two middle numbers.\n",
    "\n",
    "Mode: The mode is the most frequently occurring value in a set of numbers. If there is no value \n",
    "    that appears more than once, the set has no mode. If there are multiple values that appear with\n",
    "    the same highest frequency, the set has multiple modes"
   ]
  },
  {
   "cell_type": "code",
   "execution_count": null,
   "id": "50b09091",
   "metadata": {},
   "outputs": [],
   "source": [
    "# Answer2.\n",
    "\n",
    "Mean, median, and mode are three measures of central tendency used to describe the center or typical value of a dataset. They each provide different information about the distribution of the data and are used in different situations.\n",
    "\n",
    "Mean: The mean is the most commonly used measure of central tendency. It is calculated by adding up all the values in the dataset and dividing by the number of values. The mean is sensitive to extreme values or outliers, which can significantly affect its value. When the distribution is symmetrical, the mean is usually the best measure of central tendency to use.\n",
    "\n",
    "Median: The median is the middle value in a dataset when the values are arranged in order. It is less affected by extreme values than the mean, making it a better measure of central tendency when the dataset has outliers or is skewed. The median is a robust measure of central tendency that is less sensitive to extreme values.\n",
    "\n",
    "Mode: The mode is the value that occurs most frequently in a dataset. It is the only measure of central tendency that can be used with nominal or categorical data. The mode is useful when you want to describe the most common value or category in a dataset.\n",
    "\n",
    "In summary, mean is the average value, median is the middle value, and mode is the most frequently occurring value. Each measure of central tendency has its advantages and disadvantages, and the choice of which one to use depends on the nature of the data and the research question"
   ]
  },
  {
   "cell_type": "code",
   "execution_count": 8,
   "id": "0d5fda1a",
   "metadata": {},
   "outputs": [
    {
     "name": "stdout",
     "output_type": "stream",
     "text": [
      "177.02\n",
      "177.0\n",
      "ModeResult(mode=array([178.]), count=array([3]))\n"
     ]
    }
   ],
   "source": [
    "# Answer3.\n",
    "\n",
    "# First, we will order the data in ascending order:\n",
    "my_list = [172.5, 175, 175, 176, 176.2, 176.5, 177, 177, 178, 178, 178, 178.2, 178.9, 179, 180]\n",
    "import numpy as np\n",
    "from scipy import stats as st\n",
    "\n",
    "\n",
    "Mean = np.mean(my_list)\n",
    "Median = np.median(my_list)\n",
    "Mode = st.mode(my_list) \n",
    "\n",
    "print(Mean) \n",
    "print(Median)\n",
    "print(Mode)"
   ]
  },
  {
   "cell_type": "code",
   "execution_count": 10,
   "id": "e9155bdf",
   "metadata": {},
   "outputs": [
    {
     "name": "stdout",
     "output_type": "stream",
     "text": [
      "1.8472321637159383\n"
     ]
    }
   ],
   "source": [
    "# Answer4.\n",
    "\n",
    "sd = np.std(my_list)\n",
    "print(sd)"
   ]
  },
  {
   "cell_type": "code",
   "execution_count": null,
   "id": "bc749f03",
   "metadata": {},
   "outputs": [],
   "source": [
    "# Answer5.\n",
    "\n",
    "Measures of dispersion, such as range, variance, and standard deviation, are used to describe the spread or variability of a dataset. They provide a quantitative measure of how much the individual data points deviate from the central tendency of the dataset. Here's an explanation of each measure with an example:\n",
    "\n",
    "Range: Range is the difference between the highest and lowest values in a dataset. It is the simplest measure of dispersion and gives a rough idea of how spread out the data is. For example, suppose you have the following dataset representing the number of hours students study per day: 2, 4, 5, 6, 8. The range of this dataset is 8 - 2 = 6, which means that the data ranges from 2 to 8 hours of study per day.\n",
    "\n",
    "Variance: Variance measures how far the individual data points are from the mean (average) of the dataset. It provides a more precise measure of the spread of the data than range. The formula for variance is:\n",
    "\n",
    "variance = sum((x - mean)^2) / (n - 1)\n",
    "\n",
    "where x is each data point, mean is the average of the dataset, and n is the sample size. For example, suppose you have the following dataset representing the height (in inches) of five students: 60, 64, 68, 72, 76. The mean of this dataset is (60+64+68+72+76)/5 = 68. The variance of this dataset is ((60-68)^2 + (64-68)^2 + (68-68)^2 + (72-68)^2 + (76-68)^2) / (5-1) = 80, which means that the data points vary from the mean by an average of 8 inches squared.\n",
    "\n",
    "Standard deviation: Standard deviation is the square root of the variance and is used to provide a more interpretable measure of the spread of the data. It is expressed in the same units as the original data and is easier to understand than the variance. The formula for standard deviation is:\n",
    "\n",
    "standard deviation = sqrt(variance)\n",
    "\n",
    "Using the same example as above, the standard deviation of the dataset is sqrt(80) = 8.94, which means that the data points vary from the mean by an average of 8.94 inches.\n",
    "\n",
    "In summary, range, variance, and standard deviation are measures of dispersion that are used to describe how spread out the data is in a dataset. They provide a quantitative measure of the variability of the data and can be used to compare the spread of different datasets or to identify outliers in the data."
   ]
  },
  {
   "cell_type": "code",
   "execution_count": null,
   "id": "8b2b9b86",
   "metadata": {},
   "outputs": [],
   "source": [
    "# Answer6.\n",
    "\n",
    "A Venn diagram is a graphical representation of sets or groups of objects or elements that shows the relationships among them. It is named after John Venn, a British logician and philosopher who introduced the concept in the late 19th century.\n",
    "\n",
    "A Venn diagram typically consists of two or more overlapping circles or ellipses, each representing a set or a group of objects or elements. The area of overlap between the circles represents the elements or objects that belong to both sets. The area outside the circles represents the elements or objects that do not belong to either set.\n",
    "\n",
    "Venn diagrams are commonly used in mathematics, logic, statistics, and other fields to visualize the relationships between different sets of data. They can be used to illustrate the relationships between different groups of people, objects, or concepts, and to identify the similarities and differences between them."
   ]
  },
  {
   "cell_type": "code",
   "execution_count": null,
   "id": "2066f374",
   "metadata": {},
   "outputs": [],
   "source": [
    "# Answer7.\n",
    "\n",
    "1)  {2,6}\n",
    "\n",
    "2)  {0,2,3,4,5,6,7,8,10}"
   ]
  },
  {
   "cell_type": "code",
   "execution_count": null,
   "id": "a11e7d87",
   "metadata": {},
   "outputs": [],
   "source": [
    "# Answer8.\n",
    "\n",
    "In statistics, skewness is a measure of the asymmetry of a probability distribution. Skewness refers to the degree to which the data in a dataset is skewed, or not evenly distributed around the mean or median. A skewed distribution means that the data is not symmetrical and has one tail that is longer or stretched out than the other.\n",
    "\n",
    "Skewness is typically measured using a statistic called the skewness coefficient. A positive skewness coefficient indicates that the data is skewed to the right, meaning that the tail of the distribution is longer on the right-hand side than the left. In contrast, a negative skewness coefficient indicates that the data is skewed to the left, meaning that the tail of the distribution is longer on the left-hand side than the right.\n",
    "\n",
    "Skewness is an important concept in statistics because it can affect the interpretation of summary statistics, such as the mean and standard deviation. In a skewed distribution, the mean and standard deviation may not accurately represent the center and spread of the data, and other measures such as the median and interquartile range may be more appropriate."
   ]
  },
  {
   "cell_type": "code",
   "execution_count": null,
   "id": "89d4de4b",
   "metadata": {},
   "outputs": [],
   "source": [
    "# Answer9.\n",
    "\n",
    "If the data is right skewed, the median will be less than the mean"
   ]
  },
  {
   "cell_type": "code",
   "execution_count": null,
   "id": "3465b3fb",
   "metadata": {},
   "outputs": [],
   "source": [
    "# Answer10. \n",
    "\n",
    "Covariance and correlation are both measures of the relationship between two variables, but they have different interpretations and uses in statistical analysis.\n",
    "\n",
    "Covariance measures the extent to which two variables vary together. It is a measure of the joint variability of two variables. A positive covariance indicates that the variables tend to increase or decrease together, while a negative covariance indicates that the variables tend to have opposite changes. The formula for covariance is:\n",
    "\n",
    "Cov(X,Y) = E[(X - E[X])(Y - E[Y])]\n",
    "\n",
    "where X and Y are the two variables, E[X] and E[Y] are their means, and E[] represents the expected value.\n",
    "\n",
    "Correlation, on the other hand, measures the strength and direction of the linear relationship between two variables. Correlation is a standardized version of covariance, which measures the degree to which two variables are linearly related to each other. The correlation coefficient ranges between -1 and 1, with a positive correlation indicating a direct relationship and a negative correlation indicating an inverse relationship. The formula for correlation is:\n",
    "\n",
    "r = Cov(X,Y) / (SD(X) * SD(Y))"
   ]
  },
  {
   "cell_type": "code",
   "execution_count": null,
   "id": "f3cd40e5",
   "metadata": {},
   "outputs": [],
   "source": [
    "# Answer11.\n",
    "\n",
    "The formula for calculating the sample mean (also known as the sample average) is:\n",
    "\n",
    "sample mean = (sum of all values in the sample) / (number of values in the sample)\n",
    "\n",
    "In other words, to calculate the sample mean, you add up all the values in the sample and divide by the number of values in the sample.\n",
    "\n",
    "Here is an example calculation of the sample mean for a dataset:\n",
    "\n",
    "Suppose you have the following dataset:\n",
    "\n",
    "[5, 7, 8, 6, 9, 10]\n",
    "\n",
    "To find the sample mean, you add up all the values in the dataset and divide by the number of values:\n",
    "\n",
    "sample mean = (5 + 7 + 8 + 6 + 9 + 10) / 6\n",
    "\n",
    "sample mean = 45 / 6\n",
    "\n",
    "sample mean = 7.5\n",
    "\n",
    "Therefore, the sample mean for this dataset is 7.5."
   ]
  },
  {
   "cell_type": "code",
   "execution_count": null,
   "id": "01dffe0a",
   "metadata": {},
   "outputs": [],
   "source": [
    "# Answer12.\n",
    "\n",
    "For a normal distribution, the measures of central tendency (mean, median, and mode) are all equal.\n",
    "This means that the value of the mean, median, and mode are the same for a perfectly normal distribution.\n",
    "\n"
   ]
  },
  {
   "cell_type": "code",
   "execution_count": null,
   "id": "9f8fb8d4",
   "metadata": {},
   "outputs": [],
   "source": [
    "# Answer13.\n",
    "\n",
    "Covariance and correlation are two measures of the relationship between two variables. However, they have some key differences:\n",
    "\n",
    "Definition: Covariance is a measure of how two variables change together. It measures the degree to which two variables are linearly associated with each other. Correlation, on the other hand, is a standardized measure of the linear relationship between two variables. It measures both the strength and direction of the linear relationship between two variables.\n",
    "\n",
    "Scale: Covariance is measured in the units of the two variables being analyzed. This means that the scale of covariance can be difficult to interpret. Correlation, on the other hand, is a unitless measure that ranges from -1 to +1. A correlation of -1 indicates a perfect negative linear relationship, a correlation of 0 indicates no linear relationship, and a correlation of +1 indicates a perfect positive linear relationship.\n",
    "\n",
    "Interpretation: Covariance can be difficult to interpret because it is affected by the scale of the variables being analyzed. A large covariance could either indicate a strong positive relationship or a strong negative relationship depending on the scale of the variables. Correlation, on the other hand, is easier to interpret because it is standardized and always falls between -1 and +1.\n",
    "\n",
    "Properties: Covariance has both positive and negative values, and it is affected by the means of the variables being analyzed. Correlation, on the other hand, always has a value between -1 and +1, and it is not affected by the means of the variables."
   ]
  },
  {
   "cell_type": "code",
   "execution_count": null,
   "id": "11e0f25d",
   "metadata": {},
   "outputs": [],
   "source": [
    "# Answer14. \n",
    "\n",
    "Outliers can have a significant impact on measures of central tendency and dispersion.\n",
    "\n",
    "In terms of central tendency, outliers can greatly affect the mean. Since the mean is calculated by summing up all the values in the dataset and dividing by the number of values, a single extreme value can greatly change the mean. The median, on the other hand, is less affected by outliers because it only takes into account the middle value(s) of the dataset.\n",
    "\n",
    "In terms of dispersion, outliers can also affect the range, variance, and standard deviation. The range, which is the difference between the highest and lowest values in the dataset, can be greatly affected by outliers. The variance and standard deviation, which measure the spread of the data around the mean, can also be affected because they take into account the distance between each value and the mean. If there is an outlier that is far from the mean, it will increase the variance and standard deviation.\n",
    "\n",
    "Here's an example:\n",
    "\n",
    "Suppose you have a dataset of exam scores for a class of 10 students:\n",
    "\n",
    "85, 75, 90, 80, 82, 78, 88, 95, 93, 50\n",
    "\n",
    "The mean score for this dataset is 81.6, the median score is 82, and the standard deviation is 13.2. Now suppose there was an error in grading and one student actually scored a 100 on the exam:\n",
    "\n",
    "85, 75, 90, 80, 82, 78, 88, 95, 93, 100\n",
    "\n",
    "The mean score for this new dataset is now 86.6, the median score is still 82, and the standard deviation is now 11.8. You can see that the addition of the outlier (100) has greatly increased the mean and decreased the standard deviation, while the median has remained the same. This example illustrates how outliers can affect measures of central tendency and dispersion."
   ]
  }
 ],
 "metadata": {
  "kernelspec": {
   "display_name": "Python 3",
   "language": "python",
   "name": "python3"
  },
  "language_info": {
   "codemirror_mode": {
    "name": "ipython",
    "version": 3
   },
   "file_extension": ".py",
   "mimetype": "text/x-python",
   "name": "python",
   "nbconvert_exporter": "python",
   "pygments_lexer": "ipython3",
   "version": "3.8.8"
  }
 },
 "nbformat": 4,
 "nbformat_minor": 5
}
