{
  "nbformat": 4,
  "nbformat_minor": 0,
  "metadata": {
    "colab": {
      "provenance": []
    },
    "kernelspec": {
      "name": "python3",
      "display_name": "Python 3"
    },
    "language_info": {
      "name": "python"
    }
  },
  "cells": [
    {
      "cell_type": "code",
      "execution_count": 1,
      "metadata": {
        "id": "w6RjE8Tlg6sK"
      },
      "outputs": [],
      "source": [
        "# Answer1.\n",
        "import numpy as np\n",
        "from bokeh.plotting import figure, show\n",
        "\n",
        "# Prepare the data\n",
        "x = np.linspace(0, 2*np.pi, 100)\n",
        "y = np.sin(x)\n",
        "\n",
        "# Create a figure\n",
        "p = figure(title='Sine Wave', x_axis_label='x', y_axis_label='y')\n",
        "\n",
        "# Add glyphs\n",
        "p.line(x, y, line_width=2)\n",
        "\n",
        "# Show the plot\n",
        "show(p)"
      ]
    },
    {
      "cell_type": "code",
      "source": [
        "# Answer2.\n",
        "'''  In Bokeh, a glyph is a visual shape or marker that can be used to represent data in a plot. Glyphs can be added to a Bokeh plot using the figure\n",
        " object, which is the central object for creating visualizations in Bokeh.'''\n",
        "\n",
        "import numpy as np\n",
        "from bokeh.plotting import figure, show\n",
        "\n",
        "# Prepare the data\n",
        "x = np.linspace(0, 2*np.pi, 100)\n",
        "y = np.sin(x)\n",
        "\n",
        "# Create a figure\n",
        "p = figure(title='Sine Wave', x_axis_label='x', y_axis_label='y')\n",
        "\n",
        "# Add glyphs\n",
        "p.circle(x, y, size=5, color='blue', alpha=0.5)\n",
        "p.line(x, y, line_width=2, color='red')\n",
        "\n",
        "# Show the plot\n",
        "show(p)"
      ],
      "metadata": {
        "id": "pbQNawJsL-Q9"
      },
      "execution_count": 3,
      "outputs": []
    },
    {
      "cell_type": "code",
      "source": [
        "# Answer3.\n",
        "''' Adding a title\n",
        "To add a title to a Bokeh plot, you can use the title property of the figure object. Here's an example:'''\n",
        "\n",
        "from bokeh.plotting import figure, show\n",
        "\n",
        "# Prepare the data\n",
        "x = [1, 2, 3, 4, 5]\n",
        "y = [1, 4, 3, 2, 5]\n",
        "\n",
        "# Create a figure with a title\n",
        "p = figure(title='My Plot')\n",
        "\n",
        "# Add glyphs\n",
        "p.line(x, y)\n",
        "\n",
        "# Show the plot\n",
        "show(p)\n",
        "\n",
        "'''  Adding axis labels\n",
        "To add axis labels to a Bokeh plot, you can use the x_axis_label and y_axis_label properties of the figure object. Here's an example:'''\n",
        "\n",
        "from bokeh.plotting import figure, show\n",
        "\n",
        "# Prepare the data\n",
        "x = [1, 2, 3, 4, 5]\n",
        "y = [1, 4, 3, 2, 5]\n",
        "\n",
        "# Create a figure with axis labels\n",
        "p = figure(x_axis_label='X Axis', y_axis_label='Y Axis')\n",
        "\n",
        "# Add glyphs\n",
        "p.line(x, y)\n",
        "\n",
        "# Show the plot\n",
        "show(p)  \n",
        "\n",
        "''' Adding a legend\n",
        "To add a legend to a Bokeh plot, you can use the legend property of the glyph objects. Here's an example: '''\n",
        "\n",
        "from bokeh.plotting import figure, show\n",
        "\n",
        "# Prepare the data\n",
        "x = [1, 2, 3, 4, 5]\n",
        "y1 = [1, 4, 3, 2, 5]\n",
        "y2 = [2, 5, 1, 3, 4]\n",
        "\n",
        "# Create a figure with a legend\n",
        "p = figure(title='My Plot')\n",
        "p.line(x, y1, legend_label='Line 1')\n",
        "p.line(x, y2, legend_label='Line 2')\n",
        "\n",
        "# Show the plot with a legend\n",
        "p.legend.location = 'top_left'\n",
        "p.legend.title = 'Legend'\n",
        "show(p)"
      ],
      "metadata": {
        "id": "dks_2bThM4p6"
      },
      "execution_count": 5,
      "outputs": []
    },
    {
      "cell_type": "code",
      "source": [],
      "metadata": {
        "id": "z8spsM7EU8vk"
      },
      "execution_count": null,
      "outputs": []
    },
    {
      "cell_type": "code",
      "source": [
        "# Answer4 \n",
        "\"\"\"A Bokeh server is a Python server application that allows you to create and serve interactive Bokeh plots and applications to a web browser. \n",
        " With a Bokeh server, you can create dynamic and responsive visualizations that can update in real time based on user input or data changes.\"\"\"\n",
        "\n",
        "from bokeh.plotting import figure\n",
        "from bokeh.models import ColumnDataSource\n",
        "import numpy as np\n",
        "\n",
        "# Create a data source with random x and y values\n",
        "source = ColumnDataSource(data=dict(\n",
        "    x=np.random.normal(size=100),\n",
        "    y=np.random.normal(size=100)\n",
        "))\n",
        "\n",
        "# Create a scatter plot\n",
        "plot = figure()\n",
        "plot.circle('x', 'y', source=source)\n",
        "\n",
        "# Define a callback function that updates the data source\n",
        "def update():\n",
        "    source.data = dict(\n",
        "        x=np.random.normal(size=100),\n",
        "        y=np.random.normal(size=100)\n",
        "    )\n",
        "\n",
        "# Add the callback function to the document\n",
        "curdoc().add_periodic_callback(update, 1000)\n"
      ],
      "metadata": {
        "id": "Jb2FYOziV8xD"
      },
      "execution_count": null,
      "outputs": []
    },
    {
      "cell_type": "code",
      "source": [
        "# Answer5.\n",
        "\n",
        "'''Both Flask and Django are popular web frameworks for building web applications in Python. Here's an example of how to embed a Bokeh plot into a web page or dashboard using each framework:\n",
        "\n",
        "Flask\n",
        "First, create a Flask app and import the necessary modules:''' \n",
        "\n",
        "from flask import Flask, render_template\n",
        "from bokeh.embed import server_document\n",
        "from bokeh.server.server import Server\n",
        "from myapp import myplot\n",
        "\n",
        "app = Flask(__name__) \n",
        "\n",
        "''' Next, create a function that returns the Bokeh plot as an HTML string using the server_document function:'''\n",
        "\n",
        "def get_plot():\n",
        "    with Server({'/': myplot}) as server:\n",
        "        url = server_document('http://localhost:5006/myplot')\n",
        "    return url \n",
        "\n",
        "''' Finally, create a Flask route that renders an HTML template that includes the Bokeh plot:'''\n",
        "\n",
        "@app.route('/')\n",
        "def index():\n",
        "    plot_url = get_plot()\n",
        "    return render_template('index.html', plot_url=plot_url)"
      ],
      "metadata": {
        "id": "34oOz4C3WHe0"
      },
      "execution_count": null,
      "outputs": []
    }
  ]
}