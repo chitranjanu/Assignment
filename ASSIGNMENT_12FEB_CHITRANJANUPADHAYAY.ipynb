{
 "cells": [
  {
   "cell_type": "code",
   "execution_count": null,
   "id": "0a4753c7",
   "metadata": {},
   "outputs": [],
   "source": [
    "# Answer1.\n",
    "\"\"\" In Python, an Exception is an error that occurs during the execution of a program. When an Exception is raised, it means that the program has encountered an unexpected condition or situation that it does not know how to handle. This can happen for a variety of reasons, such as invalid input, resource exhaustion, or unexpected conditions.\n",
    "\n",
    "Exceptions are different from syntax errors in Python. Syntax errors occur when the code does not conform to the rules of the Python language, such as when there is a misspelling of a keyword, a missing bracket or parentheses, or a variable that has not been defined. These errors occur before the program is executed and prevent the program from running at all.\n",
    "\n",
    "In contrast, Exceptions occur during the execution of a program when something unexpected happens, such as a file that cannot be found or a division by zero. Exceptions can be caught and handled in the code using try-except blocks, which allow the program to recover from the Exception and continue executing. Syntax errors, on the other hand, must be fixed in the code before the program can be executed\"\"\""
   ]
  },
  {
   "cell_type": "code",
   "execution_count": 2,
   "id": "dca12ea2",
   "metadata": {},
   "outputs": [
    {
     "name": "stdout",
     "output_type": "stream",
     "text": [
      "Enter a number: 56\n",
      "Enter another number: 0\n"
     ]
    },
    {
     "ename": "ZeroDivisionError",
     "evalue": "division by zero",
     "output_type": "error",
     "traceback": [
      "\u001b[1;31m---------------------------------------------------------------------------\u001b[0m",
      "\u001b[1;31mZeroDivisionError\u001b[0m                         Traceback (most recent call last)",
      "\u001b[1;32m<ipython-input-2-a5ed5abcec94>\u001b[0m in \u001b[0;36m<module>\u001b[1;34m\u001b[0m\n\u001b[0;32m      6\u001b[0m     \u001b[0ma\u001b[0m \u001b[1;33m=\u001b[0m \u001b[0mint\u001b[0m\u001b[1;33m(\u001b[0m\u001b[0minput\u001b[0m\u001b[1;33m(\u001b[0m\u001b[1;34m\"Enter a number: \"\u001b[0m\u001b[1;33m)\u001b[0m\u001b[1;33m)\u001b[0m\u001b[1;33m\u001b[0m\u001b[1;33m\u001b[0m\u001b[0m\n\u001b[0;32m      7\u001b[0m     \u001b[0mb\u001b[0m \u001b[1;33m=\u001b[0m \u001b[0mint\u001b[0m\u001b[1;33m(\u001b[0m\u001b[0minput\u001b[0m\u001b[1;33m(\u001b[0m\u001b[1;34m\"Enter another number: \"\u001b[0m\u001b[1;33m)\u001b[0m\u001b[1;33m)\u001b[0m\u001b[1;33m\u001b[0m\u001b[1;33m\u001b[0m\u001b[0m\n\u001b[1;32m----> 8\u001b[1;33m     \u001b[0mresult\u001b[0m \u001b[1;33m=\u001b[0m \u001b[0ma\u001b[0m \u001b[1;33m/\u001b[0m \u001b[0mb\u001b[0m\u001b[1;33m\u001b[0m\u001b[1;33m\u001b[0m\u001b[0m\n\u001b[0m\u001b[0;32m      9\u001b[0m     \u001b[0mprint\u001b[0m\u001b[1;33m(\u001b[0m\u001b[1;34m\"The result is:\"\u001b[0m\u001b[1;33m,\u001b[0m \u001b[0mresult\u001b[0m\u001b[1;33m)\u001b[0m\u001b[1;33m\u001b[0m\u001b[1;33m\u001b[0m\u001b[0m\n\u001b[0;32m     10\u001b[0m \u001b[1;32mexcept\u001b[0m \u001b[0mValueError\u001b[0m\u001b[1;33m:\u001b[0m\u001b[1;33m\u001b[0m\u001b[1;33m\u001b[0m\u001b[0m\n",
      "\u001b[1;31mZeroDivisionError\u001b[0m: division by zero"
     ]
    }
   ],
   "source": [
    "# Answer2.\n",
    "\"\"\" When an exception is not handled in a program, it results in a runtime error, also known as an unhandled exception. The program stops executing and displays an error message, which may not be very helpful for users. Unhandled exceptions can cause data loss, program crashes, and security vulnerabilities.\n",
    "\n",
    "Here's an example:\"\"\"\n",
    "try:\n",
    "    a = int(input(\"Enter a number: \"))\n",
    "    b = int(input(\"Enter another number: \"))\n",
    "    result = a / b\n",
    "    print(\"The result is:\", result)\n",
    "except ValueError:\n",
    "    print(\"Invalid input, please enter a number.\")"
   ]
  },
  {
   "cell_type": "code",
   "execution_count": 3,
   "id": "88095be7",
   "metadata": {},
   "outputs": [
    {
     "name": "stdout",
     "output_type": "stream",
     "text": [
      "Enter a number: 58\n",
      "Enter another number: 0\n",
      "Cannot divide by zero.\n"
     ]
    }
   ],
   "source": [
    "# Answer3.\n",
    "\"\"\" In Python, we use try and except statements to catch and handle exceptions. The try block contains the code that may raise an exception, and the except block contains the code to handle the exception.\n",
    "\n",
    "Here's an example\"\"\"\n",
    "try:\n",
    "    num1 = int(input(\"Enter a number: \"))\n",
    "    num2 = int(input(\"Enter another number: \"))\n",
    "    result = num1 / num2\n",
    "    print(\"The result is:\", result)\n",
    "except ValueError:\n",
    "    print(\"Invalid input, please enter a number.\")\n",
    "except ZeroDivisionError:\n",
    "    print(\"Cannot divide by zero.\")\n",
    "    \n",
    "\"\"\" We can also use a single except block to catch all exceptions:\"\"\"\n",
    "\n",
    "try:\n",
    "    num1 = int(input(\"Enter a number: \"))\n",
    "    num2 = int(input(\"Enter another number: \"))\n",
    "    result = num1 / num2\n",
    "    print(\"The result is:\", result)\n",
    "except Exception as e:\n",
    "    print(\"An error occurred:\", e)"
   ]
  },
  {
   "cell_type": "code",
   "execution_count": null,
   "id": "3123062c",
   "metadata": {},
   "outputs": [],
   "source": [
    "# Answer4.\n",
    "\"\"\"try and else:\n",
    "The try and else statements are used together in Python to handle exceptions that may be raised in a block of code. The else block is executed if no exceptions are raised in the try block.\n",
    "\n",
    "Here's an example:\"\"\" \n",
    "\n",
    "try:\n",
    "    num1 = int(input(\"Enter a number: \"))\n",
    "    num2 = int(input(\"Enter another number: \"))\n",
    "    result = num1 / num2\n",
    "except ValueError:\n",
    "    print(\"Invalid input, please enter a number.\")\n",
    "except ZeroDivisionError:\n",
    "    print(\"Cannot divide by zero.\")\n",
    "else:\n",
    "    print(\"The result is:\", result) \n",
    "    \n",
    "\"\"\" finally:\n",
    "The finally statement is used in Python to execute a block of code regardless of whether an exception has been raised or not. This is useful for cleaning up resources or closing files that were opened in the try block.\n",
    "\n",
    "Here's an example:\"\"\"\n",
    "\n",
    "try:\n",
    "    f = open(\"myfile.txt\")\n",
    "    # do some operations on the file\n",
    "except IOError:\n",
    "    print(\"Error: Could not open file.\")\n",
    "finally:\n",
    "    f.close() \n",
    "    \n",
    "\"\"\" raise:\n",
    "The raise statement is used in Python to explicitly raise an exception. This is useful when we want to indicate that something unexpected or erroneous has occurred in the program.\n",
    "\n",
    "Here's an example:\"\"\"\n",
    "\n",
    "def calculate_average(numbers):\n",
    "    if not numbers:\n",
    "        raise ValueError(\"The input list is empty.\")\n",
    "    total = sum(numbers)\n",
    "    return total / len(numbers)\n",
    "\n",
    "try:\n",
    "    result = calculate_average([])\n",
    "except ValueError as e:\n",
    "    print(\"An error occurred:\", e)"
   ]
  },
  {
   "cell_type": "code",
   "execution_count": null,
   "id": "42bf7259",
   "metadata": {},
   "outputs": [],
   "source": [
    "# Answer5.\n",
    "\"\"\" Custom exceptions in Python are user-defined exceptions that can be created to handle specific errors or exceptional conditions that may arise in a program. By defining custom exceptions, programmers can provide more informative error messages and handle exceptional cases in a more precise and organized manner.\n",
    "\n",
    "There are several reasons why custom exceptions can be useful in Python:\n",
    "\n",
    "To provide more informative error messages: With custom exceptions, programmers can define specific error messages that provide more information about what went wrong and how to fix it. This can help other developers using the code to quickly identify and resolve issues.\n",
    "\n",
    "To organize exception handling: By defining custom exceptions, developers can group related exceptions together, making it easier to handle them in a more organized way.\n",
    "\n",
    "To handle exceptional cases: Sometimes, a program may encounter exceptional cases that cannot be handled by built-in exceptions. In such cases, custom exceptions can be used to provide a more precise and targeted solution.\n",
    "\n",
    "Here's an example of how custom exceptions can be used in Python:\"\"\"\n",
    "\n",
    "class NegativeNumberError(Exception):\n",
    "    \"\"\"Exception raised for negative numbers\"\"\"\n",
    "\n",
    "    def __init__(self, value):\n",
    "        self.value = value\n",
    "\n",
    "    def __str__(self):\n",
    "        return f\"Negative numbers not allowed: {self.value}\"\n",
    "\n",
    "def square_root(num):\n",
    "    if num < 0:\n",
    "        raise NegativeNumberError(num)\n",
    "    else:\n",
    "        return num ** 0.5\n",
    "\n",
    "try:\n",
    "    result = square_root(-4)\n",
    "except NegativeNumberError as e:\n",
    "    print(e)\n",
    "else:\n",
    "    print(result)"
   ]
  },
  {
   "cell_type": "code",
   "execution_count": null,
   "id": "e777d102",
   "metadata": {},
   "outputs": [],
   "source": [
    "# Answer6.\n",
    "class OutOfRangeError(Exception):\n",
    "    \"\"\"Exception raised when a value is out of range\"\"\"\n",
    "\n",
    "    def __init__(self, message):\n",
    "        self.message = message\n",
    "\n",
    "    def __str__(self):\n",
    "        return f\"OutOfRangeError: {self.message}\"\n",
    "\n",
    "def divide_numbers(a, b):\n",
    "    if b < 1 or b > 10:\n",
    "        raise OutOfRangeError(\"The divisor should be between 1 and 10\")\n",
    "    else:\n",
    "        return a / b\n",
    "\n",
    "try:\n",
    "    result = divide_numbers(10, 0)\n",
    "except ZeroDivisionError as e:\n",
    "    print(\"Cannot divide by zero.\")\n",
    "except OutOfRangeError as e:\n",
    "    print(e)\n",
    "else:\n",
    "    print(result)"
   ]
  }
 ],
 "metadata": {
  "kernelspec": {
   "display_name": "Python 3",
   "language": "python",
   "name": "python3"
  },
  "language_info": {
   "codemirror_mode": {
    "name": "ipython",
    "version": 3
   },
   "file_extension": ".py",
   "mimetype": "text/x-python",
   "name": "python",
   "nbconvert_exporter": "python",
   "pygments_lexer": "ipython3",
   "version": "3.8.8"
  }
 },
 "nbformat": 4,
 "nbformat_minor": 5
}
