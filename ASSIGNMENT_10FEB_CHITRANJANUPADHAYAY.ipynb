{
 "cells": [
  {
   "cell_type": "code",
   "execution_count": 10,
   "id": "8530b80d",
   "metadata": {},
   "outputs": [],
   "source": [
    "# Answer1.\n",
    "\"\"\"In Python, the built-in open() function is used to open a file. It takes two arguments: \n",
    "the file name (including the file path, if it is not in the same directory as the script)\n",
    "and the mode in which the file should be opened.\n",
    "The mode parameter is optional, and if not specified, the default mode is 'r' (read-only mode). Here are the different modes that can be used to open a file:\n",
    "\n",
    "'r' - Read mode: This mode is used to read data from a file. It is the default mode if no mode is specified. If the file does not exist, an error will occur. Example: file = open('example.txt', 'r')\n",
    "\n",
    "'w' - Write mode: This mode is used to write data to a file. If the file already exists, it will be truncated (i.e. emptied) before writing. If the file does not exist, a new file will be created. Example: file = open('example.txt', 'w')\n",
    "\n",
    "'a' - Append mode: This mode is used to append data to a file. If the file already exists, the data will be written at the end of the file. If the file does not exist, a new file will be created. Example: file = open('example.txt', 'a')\n",
    "\n",
    "'x' - Exclusive creation mode: This mode is used to create a new file, but it will fail if the file already exists. Example: file = open('example.txt', 'x')\n",
    "\n",
    "'b' - Binary mode: This mode is used to read or write binary data, such as images or executables. It can be combined with the other modes by adding 'b' to the mode string. Example: file = open('example.png', 'rb')\n",
    "\n",
    "'t' - Text mode: This mode is used to read or write text data. It is the default mode if 'b' is not specified. Example: file = open('example.txt', 'rt') \"\"\"\n",
    "\n",
    "# Here's an example of opening a file in write mode, writing some data to it, and then closing the file:\n",
    "file = open('example.txt', 'w')\n",
    "file.write('Hello, world!')\n",
    "file.close() "
   ]
  },
  {
   "cell_type": "code",
   "execution_count": null,
   "id": "52b029f0",
   "metadata": {},
   "outputs": [],
   "source": [
    "# Answer2.\n",
    "\"\"\"In Python, the close() function is used to close a file object that was opened using the open() function. It is important to close a file after you are done working with it, as it releases any system resources used by the file and ensures that any pending data is written to the file.\n",
    "\n",
    "Here are some reasons why it's important to close a file:\n",
    "\n",
    "Save changes: If you have made changes to the file using the write() function, you need to close the file in order to save those changes to the file. If you don't close the file, the changes may not be written to the file.\n",
    "\n",
    "Free up system resources: When you open a file, the operating system reserves some resources to manage the file. If you don't close the file, those resources may not be released until the program terminates, which can cause problems if you are working with many files.\n",
    "\n",
    "Avoid file corruption: If you don't close a file properly, the file may become corrupted. For example, if you are writing to a file and don't close it, the data may not be written to the file completely, leaving the file in a corrupted state.\"\"\"\n",
    "\n",
    "# To close a file, you simply need to call the close() function on the file object. For example:\n",
    "\n",
    "file = open('example.txt', 'r')\n",
    "# do some work with the file\n",
    "file.close()"
   ]
  },
  {
   "cell_type": "code",
   "execution_count": 4,
   "id": "8872e976",
   "metadata": {},
   "outputs": [
    {
     "name": "stdout",
     "output_type": "stream",
     "text": [
      "I want to become a Data Scientist\n"
     ]
    }
   ],
   "source": [
    "# Answer3.\n",
    " # Open the file for writing\n",
    "with open('data_scientist.txt', 'w') as file:\n",
    "    # Write the string to the file\n",
    "    file.write('I want to become a Data Scientist')\n",
    "\n",
    "# Open the file for reading\n",
    "with open('data_scientist.txt', 'r') as file:\n",
    "    # Read the contents of the file\n",
    "    contents = file.read()\n",
    "    print(contents)"
   ]
  },
  {
   "cell_type": "code",
   "execution_count": 11,
   "id": "25bffcdc",
   "metadata": {},
   "outputs": [
    {
     "name": "stdout",
     "output_type": "stream",
     "text": [
      "Hello, world!\n",
      "Hello, world!\n",
      "\n",
      "Hello, world!\n"
     ]
    }
   ],
   "source": [
    "# Answer4.\n",
    "\"\"\"In Python, the read(), readline(), and readlines() functions are used to read data from a file.\n",
    "Here's a brief explanation of each function and an example of how to use it:\n",
    "\n",
    "read(): The read() function reads the entire contents of a file as a single string. \n",
    "If you don't specify a parameter, it reads the entire file. Here's an example:\"\"\"\n",
    "\n",
    "with open('example.txt', 'r') as file:\n",
    "    contents = file.read()\n",
    "    print(contents)\n",
    "\n",
    "\"\"\"readline(): The readline() function reads a single line of a file at a time. \n",
    "If you call it again, it reads the next line. Here's an example:\"\"\"\n",
    "with open('example.txt', 'r') as file:\n",
    "    line1 = file.readline()\n",
    "    line2 = file.readline()\n",
    "    print(line1)\n",
    "    print(line2)\n",
    "    \n",
    "\"\"\" readlines(): The readlines() function reads all the lines of a file and returns them as a list\n",
    "of strings. Each string in the list corresponds to a single line in the file. Here's an example\"\"\"\n",
    "\n",
    "with open('example.txt', 'r') as file:\n",
    "    lines = file.readlines()\n",
    "    for line in lines:\n",
    "        print(line)\n"
   ]
  },
  {
   "cell_type": "code",
   "execution_count": 12,
   "id": "2b74cb29",
   "metadata": {},
   "outputs": [
    {
     "name": "stdout",
     "output_type": "stream",
     "text": [
      "Hello, world!\n"
     ]
    }
   ],
   "source": [
    "# Answer5.\n",
    "\n",
    "\"\"\" In Python, the with statement is used to create a context in which a resource, such as a file,\n",
    "is opened and automatically closed when the context is exited. When used with the open() function,\n",
    "the with statement ensures that the file is closed properly, even if an error occurs while working\n",
    "with the file.\n",
    "\n",
    "Here's an example that shows how to use the with statement with open() to read the contents of a \n",
    "file:\"\"\"\n",
    "with open('example.txt', 'r') as file:\n",
    "    contents = file.read()\n",
    "    print(contents)"
   ]
  },
  {
   "cell_type": "code",
   "execution_count": 14,
   "id": "41b99d39",
   "metadata": {},
   "outputs": [],
   "source": [
    "# Answer6.\n",
    "\n",
    "\"\"\" In Python, the write() and writelines() functions are used to write data to a file. \n",
    "Here's an explanation of each function and examples of how to use them:\n",
    "\n",
    "write(): The write() function writes a string to a file. If the file doesn't exist, it will be \n",
    "created. If it does exist, the data will be appended to the end of the file. Here's an example:\"\"\"\n",
    "\n",
    "with open('example.txt', 'w') as file:\n",
    "    file.write('This is a test.\\n')\n",
    "    file.write('This is another test.\\n')\n",
    "    \n",
    "\"\"\" writelines(): The writelines() function writes a list of strings to a file.\n",
    "Each string in the list corresponds to a single line in the file. Here's an example:\"\"\"\n",
    "\n",
    "with open('example.txt', 'w') as file:\n",
    "    lines = ['This is a test.\\n', 'This is another test.\\n']\n",
    "    file.writelines(lines)"
   ]
  },
  {
   "cell_type": "code",
   "execution_count": null,
   "id": "8f91a6d6",
   "metadata": {},
   "outputs": [],
   "source": []
  }
 ],
 "metadata": {
  "kernelspec": {
   "display_name": "Python 3",
   "language": "python",
   "name": "python3"
  },
  "language_info": {
   "codemirror_mode": {
    "name": "ipython",
    "version": 3
   },
   "file_extension": ".py",
   "mimetype": "text/x-python",
   "name": "python",
   "nbconvert_exporter": "python",
   "pygments_lexer": "ipython3",
   "version": "3.8.8"
  }
 },
 "nbformat": 4,
 "nbformat_minor": 5
}
