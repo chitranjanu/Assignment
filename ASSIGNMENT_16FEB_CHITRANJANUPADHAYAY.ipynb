{
 "cells": [
  {
   "cell_type": "code",
   "execution_count": null,
   "id": "4abd10da",
   "metadata": {},
   "outputs": [],
   "source": [
    "# Answer1.\n",
    "A database is a structured collection of data that is organized and stored in a computer system. \n",
    "It is designed to efficiently manage and store data so that it can be easily accessed, manipulated,\n",
    "and updated as needed. Databases can be used in various industries and applications, from online\n",
    "banking to e-commerce to healthcare.\n",
    "SQL (Structured Query Language) and NoSQL (Not Only SQL) are two different types of databases. Here are the differences between the two:\n",
    "\n",
    "Data model:\n",
    "SQL databases use a structured data model, where data is organized into tables with rows and columns. Each row represents a record, and each column represents a field. The relationships between tables are defined by keys. In contrast, NoSQL databases use an unstructured data model that does not use tables, rows, and columns.\n",
    "\n",
    "Scalability:\n",
    "SQL databases are vertically scalable, meaning that they can be scaled up by adding more hardware resources (such as RAM, CPU, or storage) to handle increased traffic or larger datasets. NoSQL databases are horizontally scalable, meaning that they can be scaled out by adding more servers or nodes to distribute the load and improve performance.\n",
    "\n",
    "Schema:\n",
    "SQL databases use a rigid schema that defines the structure of the data and enforces data integrity. Changing the schema requires modifying the database schema and migrating the data, which can be time-consuming and complex. NoSQL databases are schema-less or schema-flexible, meaning that the data structure can be modified without changing the schema or migrating the data.\n",
    "\n",
    "Query language:\n",
    "SQL databases use the SQL language to manipulate and query data. SQL is a standard language used by many databases, and it is well-known and widely used by developers and analysts. NoSQL databases use their own query languages or APIs, which can be less standardized and less familiar to developers."
   ]
  },
  {
   "cell_type": "code",
   "execution_count": null,
   "id": "0927f7cb",
   "metadata": {},
   "outputs": [],
   "source": [
    "# Answer2.\n",
    "DDL (Data Definition Language) is a set of SQL commands that allow you to define and manipulate \n",
    "the structure of database objects, such as tables, indexes, views, and procedures. DDL statements\n",
    "include commands such as CREATE, DROP, TRUNCATE, and ALTER, each with their own specific purpose:\n",
    "    \n",
    "CREATE: This command is used to create a new database object, such as a table or view. \n",
    "For example, the following SQL statement creates a new table called \"employees\" with columns\n",
    "for the employee ID, name, and department:\n",
    "    CREATE TABLE employees (\n",
    "   id INT PRIMARY KEY,\n",
    "   name VARCHAR(50),\n",
    "   department VARCHAR(50)\n",
    ");\n",
    "DROP: This command is used to delete an existing database object.\n",
    "    For example, the following SQL statement drops the \"employees\" table:\n",
    "        DROP TABLE employees; \n",
    "        \n",
    "TRUNCATE: This command is used to delete all data from an existing table, but leaves the table\n",
    "structure intact. For example, the following SQL statement truncates the \"employees\" table:\n",
    "    TRUNCATE TABLE employees;\n",
    "    \n",
    "ALTER: This command is used to modify the structure of an existing database object. \n",
    "For example, the following SQL statement adds a new column called \"salary\" to the \"employees\" table\n",
    "    ALTER TABLE employees ADD COLUMN salary INT;"
   ]
  },
  {
   "cell_type": "code",
   "execution_count": null,
   "id": "386f233e",
   "metadata": {},
   "outputs": [],
   "source": [
    "# Answer3. \n",
    "DML (Data Manipulation Language) is a set of SQL commands that allow you to manipulate the data \n",
    "within a database. DML statements include commands such as INSERT, UPDATE, and DELETE, each with \n",
    "their own specific purpose: \n",
    "INSERT: This command is used to insert new data into a table. For example, the following SQL \n",
    "    statement inserts a new record into the \"employees\" table:\n",
    "        INSERT INTO employees (id, name, department, salary) \n",
    "        VALUES (1, 'John Doe', 'Marketing', 50000);\n",
    "        \n",
    "UPDATE: This command is used to modify existing data within a table. \n",
    "For example, the following SQL statement updates the salary of the employee with the ID of 1:\n",
    "    UPDATE employees SET salary = 60000 WHERE id = 1;\n",
    "    \n",
    "DELETE: This command is used to delete data from a table.\n",
    "For example, the following SQL statement deletes the record for the employee with the ID of 1:\n",
    "    DELETE FROM employees WHERE id = 1;\n",
    "        \n",
    "        "
   ]
  },
  {
   "cell_type": "code",
   "execution_count": null,
   "id": "80d7d463",
   "metadata": {},
   "outputs": [],
   "source": [
    "# Answer4.\n",
    "DQL (Data Query Language) is a set of SQL commands that allow you to retrieve data from a database.\n",
    "DQL statements include commands such as SELECT, which is the most commonly used DQL command.\n",
    "The SELECT command is used to retrieve data from one or more tables. \n",
    "For example, the following SQL statement retrieves all records from the \"employees\" table:\n",
    "SELECT * FROM employees;"
   ]
  },
  {
   "cell_type": "code",
   "execution_count": null,
   "id": "2f68363c",
   "metadata": {},
   "outputs": [],
   "source": [
    "# Answer5\n",
    "A primary key is a field or combination of fields in a database table that uniquely identifies\n",
    "each record in the table. It is a constraint that enforces the uniqueness and non-nullability of \n",
    "the field(s) designated as the primary key. Primary keys are used to maintain data integrity and \n",
    "consistency in the database, and they are also used to establish relationships between tables.\n",
    "\n",
    "A foreign key is a field or combination of fields in a database table that refers to the primary \n",
    "key of another table. It is used to establish a relationship between two tables by ensuring that\n",
    "the values in the foreign key match the values in the primary key of the related table. The \n",
    "foreign key constraint ensures that the data in the table is consistent and reflects the \n",
    "relationships between the tables."
   ]
  },
  {
   "cell_type": "code",
   "execution_count": 1,
   "id": "7b61bbec",
   "metadata": {},
   "outputs": [
    {
     "ename": "DatabaseError",
     "evalue": "2003 (HY000): Can't connect to MySQL server on 'localhost:3306' (10061)",
     "output_type": "error",
     "traceback": [
      "\u001b[1;31m---------------------------------------------------------------------------\u001b[0m",
      "\u001b[1;31mMySQLInterfaceError\u001b[0m                       Traceback (most recent call last)",
      "\u001b[1;32m~\\anaconda3\\lib\\site-packages\\mysql\\connector\\connection_cext.py\u001b[0m in \u001b[0;36m_open_connection\u001b[1;34m(self)\u001b[0m\n\u001b[0;32m    236\u001b[0m         \u001b[1;32mtry\u001b[0m\u001b[1;33m:\u001b[0m\u001b[1;33m\u001b[0m\u001b[1;33m\u001b[0m\u001b[0m\n\u001b[1;32m--> 237\u001b[1;33m             \u001b[0mself\u001b[0m\u001b[1;33m.\u001b[0m\u001b[0m_cmysql\u001b[0m\u001b[1;33m.\u001b[0m\u001b[0mconnect\u001b[0m\u001b[1;33m(\u001b[0m\u001b[1;33m**\u001b[0m\u001b[0mcnx_kwargs\u001b[0m\u001b[1;33m)\u001b[0m\u001b[1;33m\u001b[0m\u001b[1;33m\u001b[0m\u001b[0m\n\u001b[0m\u001b[0;32m    238\u001b[0m             \u001b[0mself\u001b[0m\u001b[1;33m.\u001b[0m\u001b[0m_cmysql\u001b[0m\u001b[1;33m.\u001b[0m\u001b[0mconverter_str_fallback\u001b[0m \u001b[1;33m=\u001b[0m \u001b[0mself\u001b[0m\u001b[1;33m.\u001b[0m\u001b[0m_converter_str_fallback\u001b[0m\u001b[1;33m\u001b[0m\u001b[1;33m\u001b[0m\u001b[0m\n",
      "\u001b[1;31mMySQLInterfaceError\u001b[0m: Can't connect to MySQL server on 'localhost:3306' (10061)",
      "\nDuring handling of the above exception, another exception occurred:\n",
      "\u001b[1;31mDatabaseError\u001b[0m                             Traceback (most recent call last)",
      "\u001b[1;32m<ipython-input-1-bfaf9de9fe62>\u001b[0m in \u001b[0;36m<module>\u001b[1;34m\u001b[0m\n\u001b[0;32m      3\u001b[0m \u001b[1;33m\u001b[0m\u001b[0m\n\u001b[0;32m      4\u001b[0m \u001b[1;31m# connect to the database\u001b[0m\u001b[1;33m\u001b[0m\u001b[1;33m\u001b[0m\u001b[1;33m\u001b[0m\u001b[0m\n\u001b[1;32m----> 5\u001b[1;33m mydb = mysql.connector.connect(\n\u001b[0m\u001b[0;32m      6\u001b[0m   \u001b[0mhost\u001b[0m\u001b[1;33m=\u001b[0m\u001b[1;34m\"localhost\"\u001b[0m\u001b[1;33m,\u001b[0m\u001b[1;33m\u001b[0m\u001b[1;33m\u001b[0m\u001b[0m\n\u001b[0;32m      7\u001b[0m   \u001b[0muser\u001b[0m\u001b[1;33m=\u001b[0m\u001b[1;34m\"yourusername\"\u001b[0m\u001b[1;33m,\u001b[0m\u001b[1;33m\u001b[0m\u001b[1;33m\u001b[0m\u001b[0m\n",
      "\u001b[1;32m~\\anaconda3\\lib\\site-packages\\mysql\\connector\\__init__.py\u001b[0m in \u001b[0;36mconnect\u001b[1;34m(*args, **kwargs)\u001b[0m\n\u001b[0;32m    271\u001b[0m \u001b[1;33m\u001b[0m\u001b[0m\n\u001b[0;32m    272\u001b[0m     \u001b[1;32mif\u001b[0m \u001b[0mHAVE_CEXT\u001b[0m \u001b[1;32mand\u001b[0m \u001b[1;32mnot\u001b[0m \u001b[0muse_pure\u001b[0m\u001b[1;33m:\u001b[0m\u001b[1;33m\u001b[0m\u001b[1;33m\u001b[0m\u001b[0m\n\u001b[1;32m--> 273\u001b[1;33m         \u001b[1;32mreturn\u001b[0m \u001b[0mCMySQLConnection\u001b[0m\u001b[1;33m(\u001b[0m\u001b[1;33m*\u001b[0m\u001b[0margs\u001b[0m\u001b[1;33m,\u001b[0m \u001b[1;33m**\u001b[0m\u001b[0mkwargs\u001b[0m\u001b[1;33m)\u001b[0m\u001b[1;33m\u001b[0m\u001b[1;33m\u001b[0m\u001b[0m\n\u001b[0m\u001b[0;32m    274\u001b[0m     \u001b[1;32mreturn\u001b[0m \u001b[0mMySQLConnection\u001b[0m\u001b[1;33m(\u001b[0m\u001b[1;33m*\u001b[0m\u001b[0margs\u001b[0m\u001b[1;33m,\u001b[0m \u001b[1;33m**\u001b[0m\u001b[0mkwargs\u001b[0m\u001b[1;33m)\u001b[0m\u001b[1;33m\u001b[0m\u001b[1;33m\u001b[0m\u001b[0m\n\u001b[0;32m    275\u001b[0m \u001b[0mConnect\u001b[0m \u001b[1;33m=\u001b[0m \u001b[0mconnect\u001b[0m  \u001b[1;31m# pylint: disable=C0103\u001b[0m\u001b[1;33m\u001b[0m\u001b[1;33m\u001b[0m\u001b[0m\n",
      "\u001b[1;32m~\\anaconda3\\lib\\site-packages\\mysql\\connector\\connection_cext.py\u001b[0m in \u001b[0;36m__init__\u001b[1;34m(self, **kwargs)\u001b[0m\n\u001b[0;32m     84\u001b[0m \u001b[1;33m\u001b[0m\u001b[0m\n\u001b[0;32m     85\u001b[0m         \u001b[1;32mif\u001b[0m \u001b[0mkwargs\u001b[0m\u001b[1;33m:\u001b[0m\u001b[1;33m\u001b[0m\u001b[1;33m\u001b[0m\u001b[0m\n\u001b[1;32m---> 86\u001b[1;33m             \u001b[0mself\u001b[0m\u001b[1;33m.\u001b[0m\u001b[0mconnect\u001b[0m\u001b[1;33m(\u001b[0m\u001b[1;33m**\u001b[0m\u001b[0mkwargs\u001b[0m\u001b[1;33m)\u001b[0m\u001b[1;33m\u001b[0m\u001b[1;33m\u001b[0m\u001b[0m\n\u001b[0m\u001b[0;32m     87\u001b[0m \u001b[1;33m\u001b[0m\u001b[0m\n\u001b[0;32m     88\u001b[0m     \u001b[1;32mdef\u001b[0m \u001b[0m_add_default_conn_attrs\u001b[0m\u001b[1;33m(\u001b[0m\u001b[0mself\u001b[0m\u001b[1;33m)\u001b[0m\u001b[1;33m:\u001b[0m\u001b[1;33m\u001b[0m\u001b[1;33m\u001b[0m\u001b[0m\n",
      "\u001b[1;32m~\\anaconda3\\lib\\site-packages\\mysql\\connector\\abstracts.py\u001b[0m in \u001b[0;36mconnect\u001b[1;34m(self, **kwargs)\u001b[0m\n\u001b[0;32m   1013\u001b[0m \u001b[1;33m\u001b[0m\u001b[0m\n\u001b[0;32m   1014\u001b[0m         \u001b[0mself\u001b[0m\u001b[1;33m.\u001b[0m\u001b[0mdisconnect\u001b[0m\u001b[1;33m(\u001b[0m\u001b[1;33m)\u001b[0m\u001b[1;33m\u001b[0m\u001b[1;33m\u001b[0m\u001b[0m\n\u001b[1;32m-> 1015\u001b[1;33m         \u001b[0mself\u001b[0m\u001b[1;33m.\u001b[0m\u001b[0m_open_connection\u001b[0m\u001b[1;33m(\u001b[0m\u001b[1;33m)\u001b[0m\u001b[1;33m\u001b[0m\u001b[1;33m\u001b[0m\u001b[0m\n\u001b[0m\u001b[0;32m   1016\u001b[0m         \u001b[1;31m# Server does not allow to run any other statement different from ALTER\u001b[0m\u001b[1;33m\u001b[0m\u001b[1;33m\u001b[0m\u001b[1;33m\u001b[0m\u001b[0m\n\u001b[0;32m   1017\u001b[0m         \u001b[1;31m# when user's password has been expired.\u001b[0m\u001b[1;33m\u001b[0m\u001b[1;33m\u001b[0m\u001b[1;33m\u001b[0m\u001b[0m\n",
      "\u001b[1;32m~\\anaconda3\\lib\\site-packages\\mysql\\connector\\connection_cext.py\u001b[0m in \u001b[0;36m_open_connection\u001b[1;34m(self)\u001b[0m\n\u001b[0;32m    240\u001b[0m                 \u001b[0mself\u001b[0m\u001b[1;33m.\u001b[0m\u001b[0mconverter\u001b[0m\u001b[1;33m.\u001b[0m\u001b[0mstr_fallback\u001b[0m \u001b[1;33m=\u001b[0m \u001b[0mself\u001b[0m\u001b[1;33m.\u001b[0m\u001b[0m_converter_str_fallback\u001b[0m\u001b[1;33m\u001b[0m\u001b[1;33m\u001b[0m\u001b[0m\n\u001b[0;32m    241\u001b[0m         \u001b[1;32mexcept\u001b[0m \u001b[0mMySQLInterfaceError\u001b[0m \u001b[1;32mas\u001b[0m \u001b[0mexc\u001b[0m\u001b[1;33m:\u001b[0m\u001b[1;33m\u001b[0m\u001b[1;33m\u001b[0m\u001b[0m\n\u001b[1;32m--> 242\u001b[1;33m             raise errors.get_mysql_exception(msg=exc.msg, errno=exc.errno,\n\u001b[0m\u001b[0;32m    243\u001b[0m                                              sqlstate=exc.sqlstate)\n\u001b[0;32m    244\u001b[0m \u001b[1;33m\u001b[0m\u001b[0m\n",
      "\u001b[1;31mDatabaseError\u001b[0m: 2003 (HY000): Can't connect to MySQL server on 'localhost:3306' (10061)"
     ]
    }
   ],
   "source": [
    "# Answer6.\n",
    "import mysql.connector\n",
    "\n",
    "# connect to the database\n",
    "mydb = mysql.connector.connect(\n",
    "  host=\"localhost\",\n",
    "  user=\"yourusername\",\n",
    "  password=\"yourpassword\",\n",
    "  database=\"mydatabase\"\n",
    ")\n",
    "\n",
    "# create a cursor object\n",
    "mycursor = mydb.cursor()\n",
    "\n",
    "# execute a query\n",
    "mycursor.execute(\"SELECT * FROM customers\")\n",
    "\n",
    "# fetch the results\n",
    "results = mycursor.fetchall()\n",
    "\n",
    "# print the results\n",
    "for row in results:\n",
    "  print(row)"
   ]
  },
  {
   "cell_type": "code",
   "execution_count": null,
   "id": "fc511e00",
   "metadata": {},
   "outputs": [],
   "source": [
    "# Answer7.\n",
    "The order of execution of SQL clauses in an SQL query is as follows:\n",
    "\n",
    "FROM clause: This clause specifies the table(s) from which the data is to be retrieved.\n",
    "\n",
    "WHERE clause: This clause specifies the condition(s) that the data must meet in order to be retrieved. It is applied after the FROM clause.\n",
    "\n",
    "GROUP BY clause: This clause groups the data by one or more columns. It is applied after the WHERE clause.\n",
    "\n",
    "HAVING clause: This clause specifies the condition(s) that the grouped data must meet in order to be retrieved. It is applied after the GROUP BY clause.\n",
    "\n",
    "SELECT clause: This clause specifies the columns that are to be retrieved. It is applied after the GROUP BY and HAVING clauses.\n",
    "\n",
    "ORDER BY clause: This clause sorts the retrieved data by one or more columns. It is applied after the SELECT clause.\n",
    "\n",
    "LIMIT clause: This clause limits the number of rows that are returned. It is applied after the ORDER BY clause"
   ]
  }
 ],
 "metadata": {
  "kernelspec": {
   "display_name": "Python 3",
   "language": "python",
   "name": "python3"
  },
  "language_info": {
   "codemirror_mode": {
    "name": "ipython",
    "version": 3
   },
   "file_extension": ".py",
   "mimetype": "text/x-python",
   "name": "python",
   "nbconvert_exporter": "python",
   "pygments_lexer": "ipython3",
   "version": "3.8.8"
  }
 },
 "nbformat": 4,
 "nbformat_minor": 5
}
