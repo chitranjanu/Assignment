{
 "cells": [
  {
   "cell_type": "code",
   "execution_count": 1,
   "id": "1739c46d",
   "metadata": {},
   "outputs": [
    {
     "name": "stdout",
     "output_type": "stream",
     "text": [
      "Enter your percentage78\n",
      "Your grade for your  78  is C\n"
     ]
    }
   ],
   "source": [
    "# Answer1.\n",
    "percentage = int(input(\"Enter your percentage\"))\n",
    "\n",
    "if percentage>90:\n",
    "    grade = 'A'\n",
    "elif percentage>80:\n",
    "    grade = 'B'\n",
    "elif percentage>=60:\n",
    "    grade = 'C'\n",
    "else:\n",
    "    grade = 'D' \n",
    "\n",
    "print(\"Your grade for your \",percentage,\" is\",grade)"
   ]
  },
  {
   "cell_type": "code",
   "execution_count": 2,
   "id": "8d17a1df",
   "metadata": {},
   "outputs": [
    {
     "name": "stdout",
     "output_type": "stream",
     "text": [
      "Enter the price of bike 900000\n",
      "The Road tax for price  900000  is  135000.0\n"
     ]
    }
   ],
   "source": [
    "# Answer2.\n",
    "price = int(input(\"Enter the price of bike \"))\n",
    "if price > 100000:\n",
    "    tax = price * .15 \n",
    "elif price > 50000:\n",
    "    tax = price * .10 \n",
    "else: \n",
    "    tax = price * .5 \n",
    "    \n",
    "print(\"The Road tax for price \",price, \" is \",tax)\n",
    "    "
   ]
  },
  {
   "cell_type": "code",
   "execution_count": 4,
   "id": "a25fdbb2",
   "metadata": {},
   "outputs": [
    {
     "name": "stdout",
     "output_type": "stream",
     "text": [
      "Choose from the following cities : \n",
      " 1. Delhi \n",
      " 2. Agra \n",
      " 3. Jaipur\n",
      "Enter the city of your choice Jaipur\n",
      "The monument related to your  Jaipur  is  Jal Mahal\n"
     ]
    }
   ],
   "source": [
    "# Answer3. \n",
    "print(\"Choose from the following cities : \")\n",
    "\n",
    "print(\" 1. Delhi \\n 2. Agra \\n 3. Jaipur\")\n",
    "\n",
    "city = input(\"Enter the city of your choice \")\n",
    "if city == \"Delhi\":\n",
    "    monument = \"Red Fort\" \n",
    "elif city == \"Agra\":\n",
    "    monument = \"Taj Mahal\"\n",
    "else: \n",
    "    monument = \"Jal Mahal\" \n",
    "\n",
    "print(\"The monument related to your \", city, \" is \", monument)"
   ]
  },
  {
   "cell_type": "code",
   "execution_count": 10,
   "id": "9d8e498e",
   "metadata": {},
   "outputs": [
    {
     "name": "stdout",
     "output_type": "stream",
     "text": [
      "Enter a number of your choice 81\n",
      "The number  81  is divisible by 3 is 2 before it is less than 10\n"
     ]
    }
   ],
   "source": [
    "# Answer4.\n",
    "num = int(input(\"Enter a number of your choice \"))\n",
    "count = 0 \n",
    "num1 = num\n",
    "while num1 >10:\n",
    "    num1 = num1 / 3 \n",
    "    count += 1 \n",
    "\n",
    "print(\"The number \",num, \" is divisible by 3 is\", count, \"before it is less than 10\")"
   ]
  },
  {
   "cell_type": "code",
   "execution_count": 13,
   "id": "8432f737",
   "metadata": {},
   "outputs": [
    {
     "name": "stdout",
     "output_type": "stream",
     "text": [
      "Enter a number 78\n",
      "Enter next number 99\n",
      "Enter next number 87\n",
      "Enter next number 445\n",
      "Enter next number -9\n",
      "The total sum of all numbers till you entered a negative number is  709\n"
     ]
    }
   ],
   "source": [
    "# Answer5.\n",
    "\"\"\"A while loop is a type of loop in Python that executes a block of code repeatedly as long as a \n",
    "certain condition remains true. While loops are useful when you want to repeat a \n",
    "certain operation a certain number of times, or until a specific condition is met.\n",
    "\n",
    "For eg. Suppose you want to write a program that prompts the user to enter a series of numbers \n",
    "until they enter a negative number. Once a negative number is entered, the program should\n",
    "calculate and output the sum of all the positive numbers that were entered.\"\"\" \n",
    "\n",
    "num = int (input(\"Enter a number \"))\n",
    "sum = 0 \n",
    "\n",
    "while (num>0):\n",
    "    sum += num \n",
    "    num = int(input(\"Enter next number \"))\n",
    "\n",
    "print(\"The total sum of all numbers till you entered a negative number is \",sum)\n",
    "\n",
    "\n"
   ]
  },
  {
   "cell_type": "code",
   "execution_count": 15,
   "id": "3907b57a",
   "metadata": {},
   "outputs": [
    {
     "name": "stdout",
     "output_type": "stream",
     "text": [
      "*\n",
      "**\n",
      "***\n",
      "****\n",
      "*****\n",
      "*****\n",
      "****\n",
      "***\n",
      "**\n",
      "*\n",
      "  *\n",
      " ***\n",
      "*****\n"
     ]
    }
   ],
   "source": [
    "# Answer6.\n",
    "\"\"\"Pattern 1 \n",
    "*\n",
    "**\n",
    "***\n",
    "****\n",
    "*****\n",
    "\n",
    "Code \"\"\"\n",
    "i = 1\n",
    "while i <= 5:\n",
    "    j = 1\n",
    "    while j <= i:\n",
    "        print(\"*\", end=\"\")\n",
    "        j += 1\n",
    "    print()\n",
    "    i += 1\n",
    "    \n",
    "\"\"\"Pattern 2:\n",
    "\n",
    "*****\n",
    "****\n",
    "***\n",
    "**\n",
    "*\n",
    "\n",
    "Code:\"\"\"\n",
    "    \n",
    "i = 5\n",
    "while i >= 1:\n",
    "    j = 1\n",
    "    while j <= i:\n",
    "        print(\"*\", end=\"\")\n",
    "        j += 1\n",
    "    print()\n",
    "    i -= 1\n",
    "\n",
    "\"\"\"Pattern 3:\n",
    "    \n",
    "  *\n",
    " ***\n",
    "***** \n",
    "\n",
    "Code\"\"\"\n",
    "\n",
    "i = 1\n",
    "while i <= 3:\n",
    "    j = 1\n",
    "    while j <= 3-i:\n",
    "        print(\" \", end=\"\")\n",
    "        j += 1\n",
    "    k = 1\n",
    "    while k <= 2*i-1:\n",
    "        print(\"*\", end=\"\")\n",
    "        k += 1\n",
    "    print()\n",
    "    i += 1"
   ]
  },
  {
   "cell_type": "code",
   "execution_count": 16,
   "id": "4f7f87a5",
   "metadata": {},
   "outputs": [
    {
     "name": "stdout",
     "output_type": "stream",
     "text": [
      "1\n",
      "2\n",
      "3\n",
      "4\n",
      "5\n",
      "6\n",
      "7\n",
      "8\n",
      "9\n",
      "10\n"
     ]
    }
   ],
   "source": [
    "# Answer7.\n",
    "n = 1 \n",
    "while n<11:\n",
    "    print(n)\n",
    "    n = n+1 \n"
   ]
  },
  {
   "cell_type": "code",
   "execution_count": 17,
   "id": "035e418e",
   "metadata": {},
   "outputs": [
    {
     "name": "stdout",
     "output_type": "stream",
     "text": [
      "10\n",
      "9\n",
      "8\n",
      "7\n",
      "6\n",
      "5\n",
      "4\n",
      "3\n",
      "2\n",
      "1\n"
     ]
    }
   ],
   "source": [
    "# Answer8.\n",
    "n= 10 \n",
    "while (n>0):\n",
    "    print(n)\n",
    "    n = n-1"
   ]
  },
  {
   "cell_type": "code",
   "execution_count": null,
   "id": "09e19088",
   "metadata": {},
   "outputs": [],
   "source": []
  }
 ],
 "metadata": {
  "kernelspec": {
   "display_name": "Python 3",
   "language": "python",
   "name": "python3"
  },
  "language_info": {
   "codemirror_mode": {
    "name": "ipython",
    "version": 3
   },
   "file_extension": ".py",
   "mimetype": "text/x-python",
   "name": "python",
   "nbconvert_exporter": "python",
   "pygments_lexer": "ipython3",
   "version": "3.8.8"
  }
 },
 "nbformat": 4,
 "nbformat_minor": 5
}
