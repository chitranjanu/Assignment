{
 "cells": [
  {
   "cell_type": "code",
   "execution_count": 17,
   "id": "d7dea422",
   "metadata": {},
   "outputs": [],
   "source": [
    "# Answer1. \n",
    "def product_of_numbers(lst):\n",
    "    flat_lst = [num for sublist in lst for num in sublist if isinstance(num, (int, float))]\n",
    "    product = 1\n",
    "    for num in flat_lst:\n",
    "        product *= num\n",
    "    return product \n",
    "\n",
    "# list1 = [1,2,3,4,[44,55,66,True],False,(34,56,78,89,34),{1,2,3,3,2,1},{1:34,\"key2\":[55,67,78,89],4:(45,22,61,34)},[56,'data science'],'Machine Learning']\n",
    "\n"
   ]
  },
  {
   "cell_type": "code",
   "execution_count": 14,
   "id": "a2b44786",
   "metadata": {},
   "outputs": [
    {
     "name": "stdout",
     "output_type": "stream",
     "text": [
      "Encrypted message: R dzmg gl yvxlnv z Wzgz Hxrvmgrhg\n"
     ]
    }
   ],
   "source": [
    "# Answer2. \n",
    "message = \"I want to become a Data Scientist\"\n",
    "encrypted_message = \"\"\n",
    "\n",
    "for char in message:\n",
    "    if char.isalpha():\n",
    "        if char.isupper():\n",
    "            encrypted_message += chr(155 - ord(char))\n",
    "        else:\n",
    "            encrypted_message += chr(219 - ord(char))\n",
    "    else:\n",
    "        encrypted_message += char\n",
    "\n",
    "print(\"Encrypted message:\", encrypted_message)"
   ]
  }
 ],
 "metadata": {
  "kernelspec": {
   "display_name": "Python 3",
   "language": "python",
   "name": "python3"
  },
  "language_info": {
   "codemirror_mode": {
    "name": "ipython",
    "version": 3
   },
   "file_extension": ".py",
   "mimetype": "text/x-python",
   "name": "python",
   "nbconvert_exporter": "python",
   "pygments_lexer": "ipython3",
   "version": "3.8.8"
  }
 },
 "nbformat": 4,
 "nbformat_minor": 5
}
