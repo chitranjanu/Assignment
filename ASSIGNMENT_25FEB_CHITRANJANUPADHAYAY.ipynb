{
 "cells": [
  {
   "cell_type": "code",
   "execution_count": 17,
   "id": "0cef62ae",
   "metadata": {},
   "outputs": [
    {
     "name": "stdout",
     "output_type": "stream",
     "text": [
      "course_name    Machine Learning\n",
      "duration                      3\n",
      "Name: 1, dtype: object\n"
     ]
    }
   ],
   "source": [
    "# Answer1.\n",
    "import pandas as pd\n",
    "\n",
    "data = {'course_name':['Data Science','Machine Learning','Big Data','Data Engineer'],'duration':[2,3,6,4]}\n",
    "\n",
    "df = pd.DataFrame(data)\n",
    "\n",
    "print(df.iloc[1])"
   ]
  },
  {
   "cell_type": "code",
   "execution_count": null,
   "id": "c280eaf8",
   "metadata": {},
   "outputs": [],
   "source": [
    "# Answer2.\n",
    "'''The loc and iloc methods in pandas DataFrame are used to access data by label and integer position, respectively.\n",
    "\n",
    "loc is used to access data using labels. You can use it to select rows and columns of a DataFrame by their labels. \n",
    "The syntax for loc is df.loc[row_labels, column_labels]. Here, row_labels can be a single label or\n",
    "a list of labels, and column_labels can be a single label or a list of labels. \n",
    "For example, df.loc[2, 'duration'] selects the value in the 'duration' column of the row with \n",
    "label 2.\n",
    "\n",
    "iloc is used to access data using integer positions. You can use it to select rows and columns of \n",
    "a DataFrame by their integer positions. The syntax for iloc is df.iloc[row_positions, \n",
    "column_positions]. Here, row_positions can be a single position or a list of positions, and \n",
    "column_positions can be a single position or a list of positions. \n",
    "For example, df.iloc[1, 0] selects the value in the first column of the second row.\n",
    "\n",
    "In summary, loc is used to access data using labels, while iloc is used to access data using \n",
    "integer positions.'''"
   ]
  },
  {
   "cell_type": "code",
   "execution_count": 21,
   "id": "e408469d",
   "metadata": {},
   "outputs": [
    {
     "name": "stdout",
     "output_type": "stream",
     "text": [
      "column_1    0.333251\n",
      "column_2    0.288500\n",
      "column_3    0.013525\n",
      "column_4    0.545812\n",
      "column_5    0.403399\n",
      "column_6    0.488502\n",
      "Name: 2, dtype: float64\n",
      "column_1    0.549959\n",
      "column_2    0.833479\n",
      "column_3    0.351537\n",
      "column_4    0.573647\n",
      "column_5    0.073219\n",
      "column_6    0.003389\n",
      "Name: 1, dtype: float64\n"
     ]
    }
   ],
   "source": [
    "# Answer3.\n",
    "import pandas as pd\n",
    "import numpy as np\n",
    "\n",
    "columns = ['column_1','column_2','column_3','column_4','column_5','column_6']\n",
    "indices = [1,2,3,4,5,6]\n",
    "df1 = pd.DataFrame(np.random.rand(6,6),columns=columns, index= indices)\n",
    "\n",
    "# Reindex the DataFrame\n",
    "new_df = df1.reindex([3, 0, 1, 2])\n",
    "\n",
    "# Access rows using loc and iloc\n",
    "print(new_df.loc[2])\n",
    "print(new_df.iloc[2])\n",
    "\n",
    "'''  As we can see, there is a difference between the output of new_df.loc[2] and new_df.iloc[2].\n",
    "\n",
    "new_df.loc[2] selects the row with the label 2, which is now the third row in the reindexed\n",
    "DataFrame. Therefore, it returns the values in the row with index label 2, i.e., the row 1.\n",
    "\n",
    "new_df.iloc[2] selects the row with the integer position 2, which is the third row in the \n",
    "reindexed DataFrame. Therefore, it returns the values in the row with the index 2.\n",
    "\n",
    "So, the difference is due to the fact that loc and iloc are selecting data based on different\n",
    "criteria, i.e., labels and integer positions, respectively.'''"
   ]
  },
  {
   "cell_type": "code",
   "execution_count": 22,
   "id": "ac939561",
   "metadata": {},
   "outputs": [
    {
     "name": "stdout",
     "output_type": "stream",
     "text": [
      "Mean of each column:\n",
      "column_1    0.520686\n",
      "column_2    0.588803\n",
      "column_3    0.519976\n",
      "column_4    0.683332\n",
      "column_5    0.507403\n",
      "column_6    0.313019\n",
      "dtype: float64\n",
      "Standard deviation of column_2:\n",
      "0.1699005146623163\n"
     ]
    }
   ],
   "source": [
    "# Answer4.\n",
    "import pandas as pd\n",
    "import numpy as np\n",
    "\n",
    "columns = ['column_1', 'column_2', 'column_3', 'column_4', 'column_5', 'column_6']\n",
    "indices = [1, 2, 3, 4, 5, 6]\n",
    "df1 = pd.DataFrame(np.random.rand(6, 6), columns=columns, index=indices)\n",
    "\n",
    "# Find the mean of each column\n",
    "column_means = df1.mean()\n",
    "print(\"Mean of each column:\")\n",
    "print(column_means)\n",
    "\n",
    "# Find the standard deviation of column_2\n",
    "column_2_std = df1['column_2'].std()\n",
    "print(\"Standard deviation of column_2:\")\n",
    "print(column_2_std)"
   ]
  },
  {
   "cell_type": "code",
   "execution_count": 23,
   "id": "32ee3a64",
   "metadata": {},
   "outputs": [
    {
     "ename": "ValueError",
     "evalue": "could not convert string to float: 'Hello'",
     "output_type": "error",
     "traceback": [
      "\u001b[1;31m---------------------------------------------------------------------------\u001b[0m",
      "\u001b[1;31mValueError\u001b[0m                                Traceback (most recent call last)",
      "\u001b[1;32m<ipython-input-23-9642abc7897a>\u001b[0m in \u001b[0;36m<module>\u001b[1;34m\u001b[0m\n\u001b[0;32m      8\u001b[0m \u001b[1;33m\u001b[0m\u001b[0m\n\u001b[0;32m      9\u001b[0m \u001b[1;31m# Replace data in second row of column_1 and column_2 with a string variable\u001b[0m\u001b[1;33m\u001b[0m\u001b[1;33m\u001b[0m\u001b[1;33m\u001b[0m\u001b[0m\n\u001b[1;32m---> 10\u001b[1;33m \u001b[0mdf1\u001b[0m\u001b[1;33m.\u001b[0m\u001b[0mat\u001b[0m\u001b[1;33m[\u001b[0m\u001b[1;36m2\u001b[0m\u001b[1;33m,\u001b[0m \u001b[1;34m'column_1'\u001b[0m\u001b[1;33m]\u001b[0m \u001b[1;33m=\u001b[0m \u001b[1;34m'Hello'\u001b[0m\u001b[1;33m\u001b[0m\u001b[1;33m\u001b[0m\u001b[0m\n\u001b[0m\u001b[0;32m     11\u001b[0m \u001b[0mdf1\u001b[0m\u001b[1;33m.\u001b[0m\u001b[0mat\u001b[0m\u001b[1;33m[\u001b[0m\u001b[1;36m2\u001b[0m\u001b[1;33m,\u001b[0m \u001b[1;34m'column_2'\u001b[0m\u001b[1;33m]\u001b[0m \u001b[1;33m=\u001b[0m \u001b[1;34m'World'\u001b[0m\u001b[1;33m\u001b[0m\u001b[1;33m\u001b[0m\u001b[0m\n\u001b[0;32m     12\u001b[0m \u001b[1;33m\u001b[0m\u001b[0m\n",
      "\u001b[1;32m~\\anaconda3\\lib\\site-packages\\pandas\\core\\indexing.py\u001b[0m in \u001b[0;36m__setitem__\u001b[1;34m(self, key, value)\u001b[0m\n\u001b[0;32m   2165\u001b[0m             \u001b[1;32mreturn\u001b[0m\u001b[1;33m\u001b[0m\u001b[1;33m\u001b[0m\u001b[0m\n\u001b[0;32m   2166\u001b[0m \u001b[1;33m\u001b[0m\u001b[0m\n\u001b[1;32m-> 2167\u001b[1;33m         \u001b[1;32mreturn\u001b[0m \u001b[0msuper\u001b[0m\u001b[1;33m(\u001b[0m\u001b[1;33m)\u001b[0m\u001b[1;33m.\u001b[0m\u001b[0m__setitem__\u001b[0m\u001b[1;33m(\u001b[0m\u001b[0mkey\u001b[0m\u001b[1;33m,\u001b[0m \u001b[0mvalue\u001b[0m\u001b[1;33m)\u001b[0m\u001b[1;33m\u001b[0m\u001b[1;33m\u001b[0m\u001b[0m\n\u001b[0m\u001b[0;32m   2168\u001b[0m \u001b[1;33m\u001b[0m\u001b[0m\n\u001b[0;32m   2169\u001b[0m \u001b[1;33m\u001b[0m\u001b[0m\n",
      "\u001b[1;32m~\\anaconda3\\lib\\site-packages\\pandas\\core\\indexing.py\u001b[0m in \u001b[0;36m__setitem__\u001b[1;34m(self, key, value)\u001b[0m\n\u001b[0;32m   2116\u001b[0m             \u001b[1;32mraise\u001b[0m \u001b[0mValueError\u001b[0m\u001b[1;33m(\u001b[0m\u001b[1;34m\"Not enough indexers for scalar access (setting)!\"\u001b[0m\u001b[1;33m)\u001b[0m\u001b[1;33m\u001b[0m\u001b[1;33m\u001b[0m\u001b[0m\n\u001b[0;32m   2117\u001b[0m \u001b[1;33m\u001b[0m\u001b[0m\n\u001b[1;32m-> 2118\u001b[1;33m         \u001b[0mself\u001b[0m\u001b[1;33m.\u001b[0m\u001b[0mobj\u001b[0m\u001b[1;33m.\u001b[0m\u001b[0m_set_value\u001b[0m\u001b[1;33m(\u001b[0m\u001b[1;33m*\u001b[0m\u001b[0mkey\u001b[0m\u001b[1;33m,\u001b[0m \u001b[0mvalue\u001b[0m\u001b[1;33m=\u001b[0m\u001b[0mvalue\u001b[0m\u001b[1;33m,\u001b[0m \u001b[0mtakeable\u001b[0m\u001b[1;33m=\u001b[0m\u001b[0mself\u001b[0m\u001b[1;33m.\u001b[0m\u001b[0m_takeable\u001b[0m\u001b[1;33m)\u001b[0m\u001b[1;33m\u001b[0m\u001b[1;33m\u001b[0m\u001b[0m\n\u001b[0m\u001b[0;32m   2119\u001b[0m \u001b[1;33m\u001b[0m\u001b[0m\n\u001b[0;32m   2120\u001b[0m \u001b[1;33m\u001b[0m\u001b[0m\n",
      "\u001b[1;32m~\\anaconda3\\lib\\site-packages\\pandas\\core\\frame.py\u001b[0m in \u001b[0;36m_set_value\u001b[1;34m(self, index, col, value, takeable)\u001b[0m\n\u001b[0;32m   3271\u001b[0m             \u001b[0mvalidate_numeric_casting\u001b[0m\u001b[1;33m(\u001b[0m\u001b[0mseries\u001b[0m\u001b[1;33m.\u001b[0m\u001b[0mdtype\u001b[0m\u001b[1;33m,\u001b[0m \u001b[0mvalue\u001b[0m\u001b[1;33m)\u001b[0m\u001b[1;33m\u001b[0m\u001b[1;33m\u001b[0m\u001b[0m\n\u001b[0;32m   3272\u001b[0m \u001b[1;33m\u001b[0m\u001b[0m\n\u001b[1;32m-> 3273\u001b[1;33m             \u001b[0mseries\u001b[0m\u001b[1;33m.\u001b[0m\u001b[0m_values\u001b[0m\u001b[1;33m[\u001b[0m\u001b[0mloc\u001b[0m\u001b[1;33m]\u001b[0m \u001b[1;33m=\u001b[0m \u001b[0mvalue\u001b[0m\u001b[1;33m\u001b[0m\u001b[1;33m\u001b[0m\u001b[0m\n\u001b[0m\u001b[0;32m   3274\u001b[0m             \u001b[1;31m# Note: trying to use series._set_value breaks tests in\u001b[0m\u001b[1;33m\u001b[0m\u001b[1;33m\u001b[0m\u001b[1;33m\u001b[0m\u001b[0m\n\u001b[0;32m   3275\u001b[0m             \u001b[1;31m#  tests.frame.indexing.test_indexing and tests.indexing.test_partial\u001b[0m\u001b[1;33m\u001b[0m\u001b[1;33m\u001b[0m\u001b[1;33m\u001b[0m\u001b[0m\n",
      "\u001b[1;31mValueError\u001b[0m: could not convert string to float: 'Hello'"
     ]
    }
   ],
   "source": [
    "# Answer5.\n",
    "import pandas as pd\n",
    "import numpy as np\n",
    "\n",
    "columns = ['column_1', 'column_2', 'column_3', 'column_4', 'column_5', 'column_6']\n",
    "indices = [1, 2, 3, 4, 5, 6]\n",
    "df1 = pd.DataFrame(np.random.rand(6, 6), columns=columns, index=indices)\n",
    "\n",
    "# Replace data in second row of column_1 and column_2 with a string variable\n",
    "df1.at[2, 'column_1'] = 'Hello'\n",
    "df1.at[2, 'column_2'] = 'World'\n",
    "\n",
    "# Find the mean of column_1 and column_2\n",
    "try:\n",
    "    column_1_mean = df1['column_1'].mean()\n",
    "    column_2_mean = df1['column_2'].mean()\n",
    "    print(\"Mean of column_1:\", column_1_mean)\n",
    "    print(\"Mean of column_2:\", column_2_mean)\n",
    "except TypeError as e:\n",
    "    print(\"Error:\", e)\n",
    "    \n",
    "''' As we can see from the output, we get an error when trying to calculate the mean of column_1\n",
    "and column_2. This is because we have replaced the numerical data in the second row of these \n",
    "columns with string values, and we cannot calculate the mean of a column containing strings.\n",
    "\n",
    "To avoid this error, we need to make sure that the data in the DataFrame is of the same type. \n",
    "One way to do this is to convert the string data back to numerical data before calculating the \n",
    "mean. Another way is to replace the string data with NaN values, which can be ignored when \n",
    "calculating the mean.\n",
    "\n",
    "'''\n",
    "    "
   ]
  },
  {
   "cell_type": "code",
   "execution_count": null,
   "id": "1bd7ffa0",
   "metadata": {},
   "outputs": [],
   "source": [
    "# Answer6.\n",
    "\n",
    "''' In Python, a window function is a way to perform calculations on a subset of data in a larger dataset, where the subset is defined by a sliding window of a fixed size. The window function operates on this subset of data, performing some operation on the data within the window and producing a new value for each window.\n",
    "\n",
    "There are several types of window functions available in Python, including:\n",
    "\n",
    "Rolling: The rolling function applies a rolling window to a pandas DataFrame or Series, allowing you to perform rolling calculations such as rolling mean, rolling sum, and so on.\n",
    "\n",
    "Expanding: The expanding function computes an expanding window of a pandas DataFrame or Series, where the window size starts at a minimum and expands until it encompasses all the data points in the dataset.\n",
    "\n",
    "GroupBy: The groupby function groups data in a pandas DataFrame or Series based on one or more columns, allowing you to perform group-level calculations such as mean, sum, or count.\n",
    "\n",
    "Aggregation: The aggregation function is used with groupby to aggregate data in a pandas DataFrame or Series using one or more functions, such as mean, sum, or count.\n",
    "\n",
    "Ranking: The ranking function assigns a rank to each element in a pandas DataFrame or Series based on a specified column or set of columns.\n",
    "\n",
    "ExpandingWindow: The expandingwindow function applies an expanding window to a pandas DataFrame or Series, where the window size starts at a minimum and expands until it encompasses all the data points in the dataset. It then applies a function to each expanding window.\n",
    "\n",
    "ExponentialMovingAverage: The exponentialmovingaverage function computes the exponential moving average of a pandas DataFrame or Series, where the weight given to each data point in the window decreases exponentially as the distance from the current point increases.\n",
    "\n",
    "Shift: The shift function shifts the data in a pandas DataFrame or Series by a specified number of time periods, either forward or backward.\n",
    "\n",
    "These are just a few examples of the types of window functions available in Python. The choice of which function to use depends on the nature of the data and the specific analysis or calculation being performed.'''"
   ]
  },
  {
   "cell_type": "code",
   "execution_count": 24,
   "id": "daa0d5bf",
   "metadata": {},
   "outputs": [
    {
     "name": "stdout",
     "output_type": "stream",
     "text": [
      "Month: 4\n",
      "Year: 2023\n"
     ]
    }
   ],
   "source": [
    "# Answer7.\n",
    "import datetime\n",
    "\n",
    "now = datetime.datetime.now()\n",
    "\n",
    "print(\"Month: \" + str(now.month))\n",
    "print(\"Year: \" + str(now.year))"
   ]
  },
  {
   "cell_type": "code",
   "execution_count": 25,
   "id": "44af261c",
   "metadata": {},
   "outputs": [
    {
     "name": "stdout",
     "output_type": "stream",
     "text": [
      "Enter the first date (YYYY-MM-DD): 2023-04-26\n",
      "Enter the second date (YYYY-MM-DD): 2021-04-01\n",
      "The difference between 2023-04-26 and 2021-04-01 is -755 days, 0 hours, and 0 minutes.\n"
     ]
    }
   ],
   "source": [
    "# Answer8.\n",
    "import pandas as pd\n",
    "\n",
    "# Prompt the user to enter the first date\n",
    "date1_str = input(\"Enter the first date (YYYY-MM-DD): \")\n",
    "\n",
    "# Prompt the user to enter the second date\n",
    "date2_str = input(\"Enter the second date (YYYY-MM-DD): \")\n",
    "\n",
    "# Convert the input strings to Pandas datetime objects\n",
    "date1 = pd.to_datetime(date1_str)\n",
    "date2 = pd.to_datetime(date2_str)\n",
    "\n",
    "# Calculate the difference between the two dates\n",
    "delta = date2 - date1\n",
    "\n",
    "# Extract the number of days, hours, and minutes from the delta\n",
    "days = delta.days\n",
    "hours = delta.seconds // 3600\n",
    "minutes = (delta.seconds % 3600) // 60\n",
    "\n",
    "# Display the result\n",
    "print(f\"The difference between {date1_str} and {date2_str} is {days} days, {hours} hours, and {minutes} minutes.\")"
   ]
  },
  {
   "cell_type": "code",
   "execution_count": null,
   "id": "b0acbb0d",
   "metadata": {},
   "outputs": [],
   "source": [
    "# Answer9.\n",
    "import pandas as pd\n",
    "\n",
    "# Prompt the user to enter the file path\n",
    "file_path = input(\"Enter the file path: \")\n",
    "\n",
    "# Prompt the user to enter the column name\n",
    "column_name = input(\"Enter the column name: \")\n",
    "\n",
    "# Prompt the user to enter the category order as a comma-separated list\n",
    "category_order_str = input(\"Enter the category order (comma-separated): \")\n",
    "\n",
    "# Split the category order string into a list of categories\n",
    "category_order = category_order_str.split(\",\")\n",
    "\n",
    "# Read the CSV file into a Pandas dataframe\n",
    "data = pd.read_csv(file_path)\n",
    "\n",
    "# Convert the specified column to a categorical data type\n",
    "data[column_name] = pd.Categorical(data[column_name], categories=category_order, ordered=True)\n",
    "\n",
    "# Sort the data by the specified column\n",
    "sorted_data = data.sort_values(by=column_name)\n",
    "\n",
    "# Display the sorted data\n",
    "print(sorted_data)"
   ]
  },
  {
   "cell_type": "code",
   "execution_count": null,
   "id": "2be3a5b9",
   "metadata": {},
   "outputs": [],
   "source": [
    "# Answer10.\n",
    "import pandas as pd\n",
    "import matplotlib.pyplot as plt\n",
    "\n",
    "# Prompt the user to enter the file path\n",
    "file_path = input(\"Enter the file path: \")\n",
    "\n",
    "# Read the CSV file into a Pandas dataframe\n",
    "data = pd.read_csv(file_path)\n",
    "\n",
    "# Convert the \"Date\" column to a Pandas datetime object\n",
    "data[\"Date\"] = pd.to_datetime(data[\"Date\"])\n",
    "\n",
    "# Group the data by the product category and date, and sum the sales\n",
    "grouped_data = data.groupby([\"Category\", \"Date\"]).sum()[\"Sales\"]\n",
    "\n",
    "# Unstack the grouped data to create a pivot table with the product categories as columns\n",
    "pivot_table = grouped_data.unstack(level=0)\n",
    "\n",
    "# Create a stacked bar chart of the pivot table\n",
    "pivot_table.plot(kind=\"bar\", stacked=True)\n",
    "\n",
    "# Set the chart title and axis labels\n",
    "plt.title(\"Sales by Product Category over Time\")\n",
    "plt.xlabel(\"Date\")\n",
    "plt.ylabel(\"Sales\")\n",
    "\n",
    "# Display the chart\n",
    "plt.show()"
   ]
  },
  {
   "cell_type": "code",
   "execution_count": null,
   "id": "b5387ce6",
   "metadata": {},
   "outputs": [],
   "source": [
    "# Answer11.\n",
    "import pandas as pd\n",
    "from statistics import median, mode\n",
    "\n",
    "# Prompt the user to enter the file path\n",
    "file_path = input(\"Enter the file path: \")\n",
    "\n",
    "# Read the CSV file into a Pandas dataframe\n",
    "data = pd.read_csv(file_path)\n",
    "\n",
    "# Calculate the mean, median, and mode of the test scores\n",
    "mean_score = data[\"Score\"].mean()\n",
    "median_score = median(data[\"Score\"])\n",
    "mode_score = mode(data[\"Score\"])\n",
    "\n",
    "# Create a dictionary with the calculated statistics\n",
    "stats_dict = {\"Statistic\": [\"Mean\", \"Median\", \"Mode\"], \"Value\": [mean_score, median_score, mode_score]}\n",
    "\n",
    "# Create a Pandas dataframe from the dictionary\n",
    "stats_table = pd.DataFrame(stats_dict)\n",
    "\n",
    "# Display the table\n",
    "print(stats_table)"
   ]
  }
 ],
 "metadata": {
  "kernelspec": {
   "display_name": "Python 3",
   "language": "python",
   "name": "python3"
  },
  "language_info": {
   "codemirror_mode": {
    "name": "ipython",
    "version": 3
   },
   "file_extension": ".py",
   "mimetype": "text/x-python",
   "name": "python",
   "nbconvert_exporter": "python",
   "pygments_lexer": "ipython3",
   "version": "3.8.8"
  }
 },
 "nbformat": 4,
 "nbformat_minor": 5
}
