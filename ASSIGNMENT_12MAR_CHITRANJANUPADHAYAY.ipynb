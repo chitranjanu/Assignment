{
 "cells": [
  {
   "cell_type": "code",
   "execution_count": 1,
   "id": "009d0389",
   "metadata": {},
   "outputs": [
    {
     "name": "stdout",
     "output_type": "stream",
     "text": [
      "95% Confidence Interval:\n",
      "Lower bound: 49.02001800772997\n",
      "Upper bound: 50.97998199227003\n"
     ]
    }
   ],
   "source": [
    "# Answer1. \n",
    "\n",
    "import scipy.stats as stats\n",
    "\n",
    "sample_mean = 50\n",
    "sample_std = 5\n",
    "sample_size = 100\n",
    "\n",
    "confidence_level = 0.95\n",
    "z_score = stats.norm.ppf((1 + confidence_level) / 2)\n",
    "\n",
    "margin_of_error = z_score * (sample_std / (sample_size ** 0.5))\n",
    "\n",
    "lower_bound = sample_mean - margin_of_error\n",
    "upper_bound = sample_mean + margin_of_error\n",
    "\n",
    "print(\"95% Confidence Interval:\")\n",
    "print(\"Lower bound:\", lower_bound)\n",
    "print(\"Upper bound:\", upper_bound)\n",
    "\n",
    "''' Interpreting the results:\n",
    "\n",
    "The 95% confidence interval calculated for this sample is a range of values within which we can be 95% confident that the true population mean lies. In this case, the lower bound of the interval is lower_bound and the upper bound is upper_bound.\n",
    "\n",
    "So, based on the provided data, we can say that we are 95% confident that the true population mean falls within the range of lower_bound to upper_bound.'''"
   ]
  },
  {
   "cell_type": "code",
   "execution_count": 2,
   "id": "7ba446fe",
   "metadata": {},
   "outputs": [
    {
     "name": "stdout",
     "output_type": "stream",
     "text": [
      "Chi-square statistic: 17.307692307692307\n",
      "P-value: 0.003951747002312239\n",
      "Reject null hypothesis. The observed distribution differs significantly from the expected distribution.\n"
     ]
    },
    {
     "data": {
      "text/plain": [
       "' In this example, observed_counts represents the actual observed counts for each color of M&Ms in the bag, and expected_counts represents the expected counts based on the given distribution.\\n\\nThe null hypothesis of the chi-square test is that the observed distribution matches the expected distribution. If the p-value is less than the chosen significance level (in this case, 0.05), we reject the null hypothesis and conclude that the observed distribution differs significantly from the expected distribution.\\n\\nThe printed output will display the chi-square statistic and the p-value. Additionally, it will indicate whether to reject or fail to reject the null hypothesis based on the significance level.'"
      ]
     },
     "execution_count": 2,
     "metadata": {},
     "output_type": "execute_result"
    }
   ],
   "source": [
    "# Answer2. \n",
    "\n",
    "import scipy.stats as stats\n",
    "\n",
    "observed_counts = [45, 30, 25, 10, 10, 20]  # Actual observed counts of each color\n",
    "expected_counts = [0.2*130, 0.2*130, 0.2*130, 0.1*130, 0.1*130, 0.2*130]  # Expected counts for each color\n",
    "\n",
    "# Perform chi-square goodness of fit test\n",
    "chi2_stat, p_value = stats.chisquare(observed_counts, expected_counts)\n",
    "\n",
    "print(\"Chi-square statistic:\", chi2_stat)\n",
    "print(\"P-value:\", p_value)\n",
    "\n",
    "alpha = 0.05\n",
    "if p_value < alpha:\n",
    "    print(\"Reject null hypothesis. The observed distribution differs significantly from the expected distribution.\")\n",
    "else:\n",
    "    print(\"Fail to reject null hypothesis. The observed distribution does not differ significantly from the expected distribution.\")\n",
    "    \n",
    "    \n",
    "''' In this example, observed_counts represents the actual observed counts for each color of M&Ms in the bag, and expected_counts represents the expected counts based on the given distribution.\n",
    "\n",
    "The null hypothesis of the chi-square test is that the observed distribution matches the expected distribution. If the p-value is less than the chosen significance level (in this case, 0.05), we reject the null hypothesis and conclude that the observed distribution differs significantly from the expected distribution.\n",
    "\n",
    "The printed output will display the chi-square statistic and the p-value. Additionally, it will indicate whether to reject or fail to reject the null hypothesis based on the significance level.'''"
   ]
  },
  {
   "cell_type": "code",
   "execution_count": 3,
   "id": "af9c69b1",
   "metadata": {},
   "outputs": [
    {
     "name": "stdout",
     "output_type": "stream",
     "text": [
      "Chi-square statistic: 5.833333333333334\n",
      "P-value: 0.05411376622282158\n"
     ]
    },
    {
     "data": {
      "text/plain": [
       "' In this example, the observed variable represents the contingency table with the counts for each outcome in Group A and Group B.\\n\\nThe chi2_contingency function from the scipy.stats module performs the chi-square test for independence on the provided contingency table. It returns the chi-square statistic, the p-value, the degrees of freedom, and the expected frequencies.\\n\\nThe printed output will display the chi-square statistic and the p-value. The p-value represents the probability of observing a contingency table as extreme as (or more extreme than) the observed table if the null hypothesis of independence is true. Lower p-values indicate stronger evidence against the null hypothesis.\\n\\n\\n\\n\\n'"
      ]
     },
     "execution_count": 3,
     "metadata": {},
     "output_type": "execute_result"
    }
   ],
   "source": [
    "# Answer3.\n",
    "\n",
    "import scipy.stats as stats\n",
    "\n",
    "# Create the contingency table\n",
    "observed = [[20, 15],\n",
    "            [10, 25],\n",
    "            [15, 20]]\n",
    "\n",
    "# Perform chi-square test\n",
    "chi2_stat, p_value, _, _ = stats.chi2_contingency(observed)\n",
    "\n",
    "print(\"Chi-square statistic:\", chi2_stat)\n",
    "print(\"P-value:\", p_value)\n",
    "\n",
    "''' In this example, the observed variable represents the contingency table with the counts for each outcome in Group A and Group B.\n",
    "\n",
    "The chi2_contingency function from the scipy.stats module performs the chi-square test for independence on the provided contingency table. It returns the chi-square statistic, the p-value, the degrees of freedom, and the expected frequencies.\n",
    "\n",
    "The printed output will display the chi-square statistic and the p-value. The p-value represents the probability of observing a contingency table as extreme as (or more extreme than) the observed table if the null hypothesis of independence is true. Lower p-values indicate stronger evidence against the null hypothesis.\n",
    "\n",
    "\n",
    "\n",
    "\n",
    "'''"
   ]
  },
  {
   "cell_type": "code",
   "execution_count": 4,
   "id": "762f7af9",
   "metadata": {},
   "outputs": [
    {
     "name": "stdout",
     "output_type": "stream",
     "text": [
      "95% Confidence Interval:\n",
      "Lower bound: 0.09151638887130706\n",
      "Upper bound: 0.14848361112869293\n"
     ]
    },
    {
     "data": {
      "text/plain": [
       "' In this example, total_population represents the total number of individuals in the population (500) and smokers represents the number of individuals who smoke (60).\\n\\nThe proportion_confint function calculates the confidence interval for a proportion using the normal approximation method. The alpha parameter is set to 0.05 for a 95% confidence level.\\n\\nThe printed output will display the lower and upper bounds of the 95% confidence interval for the true proportion of individuals in the population who smoke.'"
      ]
     },
     "execution_count": 4,
     "metadata": {},
     "output_type": "execute_result"
    }
   ],
   "source": [
    "# Answer4. \n",
    "\n",
    "import statsmodels.stats.proportion as prop\n",
    "\n",
    "total_population = 500\n",
    "smokers = 60\n",
    "\n",
    "# Calculate the confidence interval\n",
    "confidence_interval = prop.proportion_confint(smokers, total_population, alpha=0.05, method='normal')\n",
    "\n",
    "print(\"95% Confidence Interval:\")\n",
    "print(\"Lower bound:\", confidence_interval[0])\n",
    "print(\"Upper bound:\", confidence_interval[1])\n",
    "\n",
    "''' In this example, total_population represents the total number of individuals in the population (500) and smokers represents the number of individuals who smoke (60).\n",
    "\n",
    "The proportion_confint function calculates the confidence interval for a proportion using the normal approximation method. The alpha parameter is set to 0.05 for a 95% confidence level.\n",
    "\n",
    "The printed output will display the lower and upper bounds of the 95% confidence interval for the true proportion of individuals in the population who smoke.'''"
   ]
  },
  {
   "cell_type": "code",
   "execution_count": 6,
   "id": "2354dfd3",
   "metadata": {},
   "outputs": [
    {
     "name": "stdout",
     "output_type": "stream",
     "text": [
      "90% Confidence Interval:\n",
      "Lower bound: 73.02617564765823\n",
      "Upper bound: 76.97382435234177\n"
     ]
    },
    {
     "data": {
      "text/plain": [
       "\" In this example, I've assumed a sample size of 100. You can change the sample_size variable to match your actual sample size.\\n\\nInterpreting the results:\\n\\nThe 90% confidence interval calculated for this sample is a range of values within which we can be 90% confident that the true population mean lies. In this case, the lower bound of the interval is lower_bound and the upper bound is upper_bound.\\n\\nSo, based on the provided data, we can say that we are 90% confident that the true population mean falls within the range of lower_bound to upper_bound.\""
      ]
     },
     "execution_count": 6,
     "metadata": {},
     "output_type": "execute_result"
    }
   ],
   "source": [
    "# Answer5. \n",
    "\n",
    "import scipy.stats as stats\n",
    "\n",
    "sample_mean = 75\n",
    "sample_std = 12\n",
    "sample_size = 100\n",
    "\n",
    "confidence_level = 0.90\n",
    "z_score = stats.norm.ppf((1 + confidence_level) / 2)\n",
    "\n",
    "margin_of_error = z_score * (sample_std / (sample_size ** 0.5))\n",
    "\n",
    "lower_bound = sample_mean - margin_of_error\n",
    "upper_bound = sample_mean + margin_of_error\n",
    "\n",
    "print(\"90% Confidence Interval:\")\n",
    "print(\"Lower bound:\", lower_bound)\n",
    "print(\"Upper bound:\", upper_bound)\n",
    "\n",
    "''' In this example, I've assumed a sample size of 100. You can change the sample_size variable to match your actual sample size.\n",
    "\n",
    "Interpreting the results:\n",
    "\n",
    "The 90% confidence interval calculated for this sample is a range of values within which we can be 90% confident that the true population mean lies. In this case, the lower bound of the interval is lower_bound and the upper bound is upper_bound.\n",
    "\n",
    "So, based on the provided data, we can say that we are 90% confident that the true population mean falls within the range of lower_bound to upper_bound.'''"
   ]
  },
  {
   "cell_type": "code",
   "execution_count": 7,
   "id": "eee76810",
   "metadata": {},
   "outputs": [
    {
     "data": {
      "image/png": "[encoded data removed]",
      "text/plain": [
       "<Figure size 432x288 with 1 Axes>"
      ]
     },
     "metadata": {
      "needs_background": "light"
     },
     "output_type": "display_data"
    }
   ],
   "source": [
    "# Answer6.\n",
    "\n",
    "import numpy as np\n",
    "import matplotlib.pyplot as plt\n",
    "import scipy.stats as stats\n",
    "\n",
    "degrees_of_freedom = 10\n",
    "x = np.linspace(0, 30, 500)  # Range of chi-square values\n",
    "\n",
    "# Plot the chi-square distribution\n",
    "plt.plot(x, stats.chi2.pdf(x, degrees_of_freedom))\n",
    "\n",
    "# Shade the area corresponding to a chi-square statistic of 15\n",
    "x_fill = np.linspace(15, 30, 100)\n",
    "plt.fill_between(x_fill, stats.chi2.pdf(x_fill, degrees_of_freedom), color='gray', alpha=0.3)\n",
    "\n",
    "# Add labels and title\n",
    "plt.xlabel(\"Chi-square value\")\n",
    "plt.ylabel(\"Probability density\")\n",
    "plt.title(f\"Chi-square Distribution with {degrees_of_freedom} Degrees of Freedom\")\n",
    "\n",
    "plt.show()"
   ]
  },
  {
   "cell_type": "code",
   "execution_count": 8,
   "id": "621b1144",
   "metadata": {},
   "outputs": [
    {
     "name": "stdout",
     "output_type": "stream",
     "text": [
      "99% Confidence Interval for Coke Preference:\n",
      "Lower bound: 0.47930745509503414\n",
      "Upper bound: 0.5604288983088296\n"
     ]
    },
    {
     "data": {
      "text/plain": [
       "' In this example, sample_size represents the total sample size (1000), and coke_preference represents the number of individuals who preferred Coke (520).\\n\\nThe proportion_confint function from the statsmodels.api module calculates the confidence interval for a proportion using the Wilson score interval method. The alpha parameter is set to 0.01 for a 99% confidence level.\\n\\nThe printed output will display the lower and upper bounds of the 99% confidence interval for the true proportion of people in the population who prefer Coke.'"
      ]
     },
     "execution_count": 8,
     "metadata": {},
     "output_type": "execute_result"
    }
   ],
   "source": [
    "# Answer7. \n",
    "\n",
    "import statsmodels.api as sm\n",
    "\n",
    "sample_size = 1000\n",
    "coke_preference = 520\n",
    "\n",
    "# Calculate the confidence interval\n",
    "confidence_interval = sm.stats.proportion_confint(coke_preference, sample_size, alpha=0.01, method='wilson')\n",
    "\n",
    "print(\"99% Confidence Interval for Coke Preference:\")\n",
    "print(\"Lower bound:\", confidence_interval[0])\n",
    "print(\"Upper bound:\", confidence_interval[1])\n",
    "\n",
    "''' In this example, sample_size represents the total sample size (1000), and coke_preference represents the number of individuals who preferred Coke (520).\n",
    "\n",
    "The proportion_confint function from the statsmodels.api module calculates the confidence interval for a proportion using the Wilson score interval method. The alpha parameter is set to 0.01 for a 99% confidence level.\n",
    "\n",
    "The printed output will display the lower and upper bounds of the 99% confidence interval for the true proportion of people in the population who prefer Coke.'''"
   ]
  },
  {
   "cell_type": "code",
   "execution_count": 9,
   "id": "8362cffe",
   "metadata": {},
   "outputs": [
    {
     "name": "stdout",
     "output_type": "stream",
     "text": [
      "Chi-square statistic: 1.0\n",
      "P-value: 0.31731050786291115\n",
      "Fail to reject null hypothesis. The observed frequencies do not differ significantly from the expected frequencies of a fair coin.\n"
     ]
    },
    {
     "data": {
      "text/plain": [
       "' In this example, observed represents the observed frequencies of tails and heads (45 and 55, respectively). expected represents the expected frequencies assuming a fair coin (50 tails and 50 heads).\\n\\nThe chisquare function from the scipy.stats module performs the chi-square goodness of fit test. It returns the chi-square statistic and the p-value.\\n\\nThe null hypothesis of the chi-square test is that the observed frequencies match the expected frequencies of a fair coin. If the p-value is less than the chosen significance level (in this case, 0.05), we reject the null hypothesis and conclude that the observed frequencies differ significantly from the expected frequencies of a fair coin.\\n\\nThe printed output will display the chi-square statistic and the p-value. Additionally, it will indicate whether to reject or fail to reject the null hypothesis based on the significance level.\\n\\n'"
      ]
     },
     "execution_count": 9,
     "metadata": {},
     "output_type": "execute_result"
    }
   ],
   "source": [
    "# Answer8. \n",
    "\n",
    "import scipy.stats as stats\n",
    "\n",
    "observed = [45, 55]  # Observed frequencies: tails and heads\n",
    "expected = [50, 50]  # Expected frequencies assuming a fair coin\n",
    "\n",
    "# Perform chi-square goodness of fit test\n",
    "chi2_stat, p_value = stats.chisquare(observed, expected)\n",
    "\n",
    "print(\"Chi-square statistic:\", chi2_stat)\n",
    "print(\"P-value:\", p_value)\n",
    "\n",
    "alpha = 0.05\n",
    "if p_value < alpha:\n",
    "    print(\"Reject null hypothesis. The observed frequencies differ significantly from the expected frequencies of a fair coin.\")\n",
    "else:\n",
    "    print(\"Fail to reject null hypothesis. The observed frequencies do not differ significantly from the expected frequencies of a fair coin.\")\n",
    "    \n",
    "''' In this example, observed represents the observed frequencies of tails and heads (45 and 55, respectively). expected represents the expected frequencies assuming a fair coin (50 tails and 50 heads).\n",
    "\n",
    "The chisquare function from the scipy.stats module performs the chi-square goodness of fit test. It returns the chi-square statistic and the p-value.\n",
    "\n",
    "The null hypothesis of the chi-square test is that the observed frequencies match the expected frequencies of a fair coin. If the p-value is less than the chosen significance level (in this case, 0.05), we reject the null hypothesis and conclude that the observed frequencies differ significantly from the expected frequencies of a fair coin.\n",
    "\n",
    "The printed output will display the chi-square statistic and the p-value. Additionally, it will indicate whether to reject or fail to reject the null hypothesis based on the significance level.\n",
    "\n",
    "'''"
   ]
  },
  {
   "cell_type": "code",
   "execution_count": null,
   "id": "fe17da96",
   "metadata": {},
   "outputs": [],
   "source": [
    "# Answer9. \n",
    "\n",
    "import scipy.stats as stats\n",
    "\n",
    "# Create the contingency table\n",
    "observed = [[60, 140],\n",
    "            [30, 170]]\n",
    "\n",
    "# Perform chi-square test for independence\n",
    "chi2_stat, p_value, _, _ = stats.chi2_contingency(observed)\n",
    "\n",
    "print(\"Chi-square statistic:\", chi2_stat)\n",
    "print(\"P-value:\", p_value)\n",
    "\n",
    "alpha = 0.05\n",
    "if p_value < alpha:\n",
    "    print(\"Reject null hypothesis. There is a significant association between smoking status and lung cancer diagnosis.\")\n",
    "else:\n",
    "    print(\"Fail to reject null hypothesis. There is no significant association between smoking status and lung cancer diagnosis.\")\n",
    "    \n",
    "''' In this example, observed represents the contingency table with counts for lung cancer diagnosis (yes/no) based on smoking status (smoker/non-smoker).\n",
    "\n",
    "The chi2_contingency function from the scipy.stats module performs the chi-square test for independence on the contingency table. It returns the chi-square statistic, the p-value, the degrees of freedom, and the expected frequencies.\n",
    "\n",
    "The null hypothesis of the chi-square test is that there is no association between smoking status and lung cancer diagnosis. If the p-value is less than the chosen significance level (in this case, 0.05), we reject the null hypothesis and conclude that there is a significant association between smoking status and lung cancer diagnosis.\n",
    "\n",
    "The printed output will display the chi-square statistic and the p-value. Additionally, it will indicate whether to reject or fail to reject the null hypothesis based on the significance level.'''"
   ]
  },
  {
   "cell_type": "code",
   "execution_count": null,
   "id": "7e1fb2b1",
   "metadata": {},
   "outputs": [],
   "source": [
    "# Answer10. \n",
    "\n",
    "import scipy.stats as stats\n",
    "\n",
    "# Create the contingency table\n",
    "observed = [[200, 150, 150],\n",
    "            [225, 175, 100]]\n",
    "\n",
    "# Perform chi-square test for independence\n",
    "chi2_stat, p_value, _, _ = stats.chi2_contingency(observed)\n",
    "\n",
    "print(\"Chi-square statistic:\", chi2_stat)\n",
    "print(\"P-value:\", p_value)\n",
    "\n",
    "alpha = 0.01\n",
    "if p_value < alpha:\n",
    "    print(\"Reject null hypothesis. There is a significant association between chocolate preference and country of origin.\")\n",
    "else:\n",
    "    print(\"Fail to reject null hypothesis. There is no significant association between chocolate preference and country of origin.\")\n",
    "    \n",
    "''' In this example, observed represents the contingency table with counts for chocolate preference (milk chocolate, dark chocolate, white chocolate) based on country of origin (US, UK).\n",
    "\n",
    "The chi2_contingency function from the scipy.stats module performs the chi-square test for independence on the contingency table. It returns the chi-square statistic, the p-value, the degrees of freedom, and the expected frequencies.\n",
    "\n",
    "The null hypothesis of the chi-square test is that there is no association between chocolate preference and country of origin. If the p-value is less than the chosen significance level (in this case, 0.01), we reject the null hypothesis and conclude that there is a significant association between chocolate preference and country of origin.\n",
    "\n",
    "The printed output will display the chi-square statistic and the p-value. Additionally, it will indicate whether to reject or fail to reject the null hypothesis based on the significance level.'''\n",
    "\n"
   ]
  },
  {
   "cell_type": "code",
   "execution_count": 11,
   "id": "fada258d",
   "metadata": {},
   "outputs": [
    {
     "name": "stdout",
     "output_type": "stream",
     "text": [
      "T-statistic: inf\n",
      "P-value: 0.0\n",
      "Reject null hypothesis. The population mean is significantly different from 70.\n"
     ]
    },
    {
     "data": {
      "text/plain": [
       "' In this example, sample_mean represents the sample mean (72), sample_std represents the sample standard deviation (10), population_mean represents the hypothesized population mean (70), and sample_size represents the sample size (30).\\n\\nThe ttest_1samp function from the scipy.stats module performs a one-sample t-test. It compares the sample mean to the hypothesized population mean and returns the t-statistic and the p-value.\\n\\nThe null hypothesis of the t-test is that the population mean is equal to the hypothesized value (70). If the p-value is less than the chosen significance level (in this case, 0.05), we reject the null hypothesis and conclude that the population mean is significantly different from 70.\\n\\nThe printed output will display the t-statistic and the p-value. Additionally, it will indicate whether to reject or fail to reject the null hypothesis based on the significance level.'"
      ]
     },
     "execution_count": 11,
     "metadata": {},
     "output_type": "execute_result"
    }
   ],
   "source": [
    "# Answer11. \n",
    "\n",
    "import scipy.stats as stats\n",
    "\n",
    "sample_mean = 72\n",
    "sample_std = 10\n",
    "population_mean = 70\n",
    "sample_size = 30\n",
    "alpha = 0.05\n",
    "\n",
    "# Calculate the t-statistic and p-value\n",
    "t_stat, p_value = stats.ttest_1samp([sample_mean]*sample_size, population_mean)\n",
    "\n",
    "print(\"T-statistic:\", t_stat)\n",
    "print(\"P-value:\", p_value)\n",
    "\n",
    "if p_value < alpha:\n",
    "    print(\"Reject null hypothesis. The population mean is significantly different from 70.\")\n",
    "else:\n",
    "    print(\"Fail to reject null hypothesis. The population mean is not significantly different from 70.\")\n",
    "    \n",
    "''' In this example, sample_mean represents the sample mean (72), sample_std represents the sample standard deviation (10), population_mean represents the hypothesized population mean (70), and sample_size represents the sample size (30).\n",
    "\n",
    "The ttest_1samp function from the scipy.stats module performs a one-sample t-test. It compares the sample mean to the hypothesized population mean and returns the t-statistic and the p-value.\n",
    "\n",
    "The null hypothesis of the t-test is that the population mean is equal to the hypothesized value (70). If the p-value is less than the chosen significance level (in this case, 0.05), we reject the null hypothesis and conclude that the population mean is significantly different from 70.\n",
    "\n",
    "The printed output will display the t-statistic and the p-value. Additionally, it will indicate whether to reject or fail to reject the null hypothesis based on the significance level.'''"
   ]
  },
  {
   "cell_type": "code",
   "execution_count": null,
   "id": "bf45cece",
   "metadata": {},
   "outputs": [],
   "source": []
  }
 ],
 "metadata": {
  "kernelspec": {
   "display_name": "Python 3",
   "language": "python",
   "name": "python3"
  },
  "language_info": {
   "codemirror_mode": {
    "name": "ipython",
    "version": 3
   },
   "file_extension": ".py",
   "mimetype": "text/x-python",
   "name": "python",
   "nbconvert_exporter": "python",
   "pygments_lexer": "ipython3",
   "version": "3.8.8"
  }
 },
 "nbformat": 4,
 "nbformat_minor": 5
}
