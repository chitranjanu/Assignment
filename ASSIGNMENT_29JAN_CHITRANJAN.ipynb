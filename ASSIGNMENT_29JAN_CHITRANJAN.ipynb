{
 "cells": [
  {
   "cell_type": "code",
   "execution_count": 1,
   "id": "778a7531",
   "metadata": {},
   "outputs": [],
   "source": [
    "# Answer1. \n",
    "# Guido van Rossum is a Dutch programmer best known as the creator of the Python programming language"
   ]
  },
  {
   "cell_type": "code",
   "execution_count": 2,
   "id": "90ada9ce",
   "metadata": {},
   "outputs": [],
   "source": [
    "# Answer2.\n",
    "# Python supports four main programming paradigms: imperative, functional, procedural, and \n",
    "# object-oriented"
   ]
  },
  {
   "cell_type": "code",
   "execution_count": 3,
   "id": "14836a27",
   "metadata": {},
   "outputs": [],
   "source": [
    "# Answer3.\n",
    "# Python is case sensitive when dealing with identifiers"
   ]
  },
  {
   "cell_type": "code",
   "execution_count": 4,
   "id": "f0ca5afb",
   "metadata": {},
   "outputs": [],
   "source": [
    "# Answer4.\n",
    "# \".py\" is the correct extension of the Python file"
   ]
  },
  {
   "cell_type": "code",
   "execution_count": 5,
   "id": "d6b99ce4",
   "metadata": {},
   "outputs": [],
   "source": [
    "# Answer5\n",
    "# Python is both compiled as well as an interpreted language"
   ]
  },
  {
   "cell_type": "code",
   "execution_count": 6,
   "id": "3f471052",
   "metadata": {},
   "outputs": [],
   "source": [
    "# Answer6.\n",
    "# The following are blocks: a module, a function body, and a class definition\n"
   ]
  },
  {
   "cell_type": "code",
   "execution_count": 8,
   "id": "847106ea",
   "metadata": {},
   "outputs": [],
   "source": [
    "# Answer7.\n",
    " # (hash) is used to make a single line comment in python."
   ]
  },
  {
   "cell_type": "code",
   "execution_count": 9,
   "id": "bdd3931b",
   "metadata": {},
   "outputs": [],
   "source": [
    "# Answer8. \n",
    "# In Windows operating systems, we can use the command python --version to check the python version."
   ]
  },
  {
   "cell_type": "code",
   "execution_count": 10,
   "id": "0d6ea65c",
   "metadata": {},
   "outputs": [],
   "source": [
    "# Answer9\n",
    "# Python supports the creation of anonymous functions (i.e. functions that are not bound to a name) at runtime, using a construct called lambda."
   ]
  },
  {
   "cell_type": "code",
   "execution_count": 11,
   "id": "9aea3f84",
   "metadata": {},
   "outputs": [],
   "source": [
    "# Answer10\n",
    "# PIP is a recursive acronym for “Preferred Installer Program” or PIP Installs Packages.\n",
    "# It is a command-line utility that installs, reinstalls, or uninstalls PyPI packages with one simple command: pip."
   ]
  },
  {
   "cell_type": "code",
   "execution_count": 12,
   "id": "63a546ff",
   "metadata": {},
   "outputs": [],
   "source": [
    "# Answer11 \n",
    "# Some in-built Functions are:\n",
    "# print( ) function.\n",
    "# type( ) function.\n",
    "# input( ) function.\n",
    "# abs( ) function.\n",
    "# pow( ) function.\n",
    "# dir( ) function.\n",
    "# sorted( ) function.\n",
    "# max( ) function."
   ]
  },
  {
   "cell_type": "code",
   "execution_count": 13,
   "id": "7ca73cc7",
   "metadata": {},
   "outputs": [],
   "source": [
    "# Answer12\n",
    "# An identifier can have a maximum length of 79 characters in Python"
   ]
  },
  {
   "cell_type": "code",
   "execution_count": 14,
   "id": "b6687e40",
   "metadata": {},
   "outputs": [],
   "source": [
    "# Answer13\n",
    "# Python is a high-level, interpreted, and general-purpose dynamic programming language that focuses on code readability\n",
    "# Python ranks among the most popular and fastest-growing languages in the world. Python is a powerful, flexible, and easy-to-use language. In addition, the python community is very active. It is used in many organizations as it supports multiple programming paradigms. It also performs automatic memory management.\n"
   ]
  },
  {
   "cell_type": "code",
   "execution_count": 15,
   "id": "3865012a",
   "metadata": {},
   "outputs": [],
   "source": [
    "# Answer14\n",
    "# Memory management in Python involves a private heap containing all Python objects and data structures. The management of this private heap is ensured internally by the Python memory manager"
   ]
  },
  {
   "cell_type": "code",
   "execution_count": 16,
   "id": "a4b94cea",
   "metadata": {},
   "outputs": [],
   "source": [
    "# Answer15\n",
    "# Install python from this link https://www.python.org/downloads/\n",
    "# After this, install it on your PC. Look for the location where PYTHON has been installed on your PC using tge following command on your command prompt: cmd python.\n",
    "# Then go to advanced system settings and add new variable and name it as PYTHON_NAME and paste the copied path.\n",
    "# Then look for the path variable, select it's value and select edit\n",
    "# Add a semicolon towards the end of the value if it's not present and then type %PYTHON_HOME%"
   ]
  },
  {
   "cell_type": "code",
   "execution_count": 17,
   "id": "606b0cdd",
   "metadata": {},
   "outputs": [],
   "source": [
    "# Answer16 \n",
    "# Yes! In the case of Python, indentation is not for styling purpose.\n",
    "# It is rather a requirement for your code to get compiled and executed."
   ]
  },
  {
   "cell_type": "code",
   "execution_count": null,
   "id": "f240226e",
   "metadata": {},
   "outputs": [],
   "source": []
  }
 ],
 "metadata": {
  "kernelspec": {
   "display_name": "Python 3",
   "language": "python",
   "name": "python3"
  },
  "language_info": {
   "codemirror_mode": {
    "name": "ipython",
    "version": 3
   },
   "file_extension": ".py",
   "mimetype": "text/x-python",
   "name": "python",
   "nbconvert_exporter": "python",
   "pygments_lexer": "ipython3",
   "version": "3.8.8"
  }
 },
 "nbformat": 4,
 "nbformat_minor": 5
}
