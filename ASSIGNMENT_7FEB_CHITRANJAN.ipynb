{
 "cells": [
  {
   "cell_type": "code",
   "execution_count": 3,
   "id": "1f24b8a2",
   "metadata": {},
   "outputs": [],
   "source": [
    "# Answer1.\n",
    "import re\n",
    "\n",
    "def is_valid_password(password):\n",
    "    # check length of password\n",
    "    if len(password) != 10:\n",
    "        print(\"Invalid Password: Password length should be 10 characters\")\n",
    "        return False\n",
    "\n",
    "    # check for at least 2 uppercase and 2 lowercase letters\n",
    "    if not re.search(r'[A-Z].*[A-Z]', password) or not re.search(r'[a-z].*[a-z]', password):\n",
    "        print(\"Invalid Password: Password should contain at least two uppercase and two lowercase letters\")\n",
    "        return False\n",
    "\n",
    "    # check for at least 1 number and 3 special characters\n",
    "    if not re.search(r'\\d', password) or not re.search(r'[!@#$%^&*()_+{}|:\"<>?~`-]{3,}', password):\n",
    "        print(\"Invalid Password: Password should contain at least one number and three special characters\")\n",
    "        return False\n",
    "\n",
    "    print(\"Valid Password\")\n",
    "    return True"
   ]
  },
  {
   "cell_type": "code",
   "execution_count": 4,
   "id": "9ae2bc6c",
   "metadata": {},
   "outputs": [
    {
     "name": "stdout",
     "output_type": "stream",
     "text": [
      "True\n",
      "False\n"
     ]
    }
   ],
   "source": [
    "# Answer2. \n",
    "# String starts with a particular letter using lambda function\n",
    "starts_with_a = lambda s: s.startswith('a')\n",
    "\n",
    "# Test the lambda function\n",
    "print(starts_with_a('apple')) # True\n",
    "print(starts_with_a('banana')) # False"
   ]
  },
  {
   "cell_type": "code",
   "execution_count": 5,
   "id": "c3c4fb0a",
   "metadata": {},
   "outputs": [
    {
     "name": "stdout",
     "output_type": "stream",
     "text": [
      "True\n",
      "False\n"
     ]
    }
   ],
   "source": [
    "# Answer2.\n",
    "# String starts with a particular letter using lambda function\n",
    "\n",
    "is_numeric = lambda s: s.isnumeric()\n",
    "\n",
    "# Test the lambda function\n",
    "print(is_numeric('123')) # True\n",
    "print(is_numeric('abc')) # False"
   ]
  },
  {
   "cell_type": "code",
   "execution_count": 6,
   "id": "ac1a35d9",
   "metadata": {},
   "outputs": [
    {
     "name": "stdout",
     "output_type": "stream",
     "text": [
      "[('orange', 80), ('mango', 99), ('grapes', 1000)]\n"
     ]
    }
   ],
   "source": [
    "# Answer2\n",
    "# Sort a list of tuples having fruit names and their quantity\n",
    "\n",
    "fruits = [('mango', 99),  ('orange', 80), ('grapes', 1000)]\n",
    "\n",
    "sorted_fruits = sorted(fruits, key=lambda x: x[1])\n",
    "\n",
    "print(sorted_fruits)"
   ]
  },
  {
   "cell_type": "code",
   "execution_count": 7,
   "id": "7adb0dbf",
   "metadata": {},
   "outputs": [
    {
     "name": "stdout",
     "output_type": "stream",
     "text": [
      "[1, 4, 9, 16, 25, 36, 49, 64, 81, 100]\n"
     ]
    }
   ],
   "source": [
    "# Answer2 \n",
    "# Squares of number from 1 to 10\n",
    "\n",
    "numbers = range(1, 11)\n",
    "\n",
    "squares = map(lambda x: x**2, numbers)\n",
    "\n",
    "print(list(squares))"
   ]
  },
  {
   "cell_type": "code",
   "execution_count": 8,
   "id": "cb143f11",
   "metadata": {},
   "outputs": [
    {
     "name": "stdout",
     "output_type": "stream",
     "text": [
      "[1.0, 1.2599210498948732, 1.4422495703074083, 1.5874010519681994, 1.7099759466766968, 1.8171205928321397, 1.912931182772389, 2.0, 2.080083823051904, 2.154434690031884]\n"
     ]
    }
   ],
   "source": [
    "# Answer2\n",
    "# Cube root of number from 1 to 10 \n",
    "\n",
    "import math\n",
    "\n",
    "numbers = range(1, 11)\n",
    "\n",
    "cube_roots = map(lambda x: math.pow(x, 1/3), numbers)\n",
    "\n",
    "print(list(cube_roots))"
   ]
  },
  {
   "cell_type": "code",
   "execution_count": 9,
   "id": "bf8b5865",
   "metadata": {},
   "outputs": [
    {
     "name": "stdout",
     "output_type": "stream",
     "text": [
      "True\n",
      "False\n"
     ]
    }
   ],
   "source": [
    "# Answer2.\n",
    "# If a number is even\n",
    "\n",
    "is_even = lambda x: x % 2 == 0\n",
    "\n",
    "# Test the lambda function\n",
    "print(is_even(4)) # True\n",
    "print(is_even(5)) # False"
   ]
  },
  {
   "cell_type": "code",
   "execution_count": 10,
   "id": "6144af32",
   "metadata": {},
   "outputs": [
    {
     "name": "stdout",
     "output_type": "stream",
     "text": [
      "[1, 3, 5, 7, 9]\n"
     ]
    }
   ],
   "source": [
    "# Answer2.\n",
    "# Odd number from a list.\n",
    "\n",
    "numbers = [1, 2, 3, 4, 5, 6, 7, 8, 9, 10]\n",
    "\n",
    "odd_numbers = list(filter(lambda x: x % 2 != 0, numbers))\n",
    "\n",
    "print(odd_numbers)"
   ]
  },
  {
   "cell_type": "code",
   "execution_count": 11,
   "id": "72d67ee5",
   "metadata": {},
   "outputs": [
    {
     "name": "stdout",
     "output_type": "stream",
     "text": [
      "Positive integers: [1, 2, 3, 4, 5, 0]\n",
      "Negative integers: [-1, -2, -3, -4, -5]\n"
     ]
    }
   ],
   "source": [
    "# Answer3.\n",
    "# Positive and negative numbers from a list.\n",
    "\n",
    "# Example input list of integers\n",
    "lst = [1,2,3,4,5,-1,-2,-3,-4,-5,0]\n",
    "\n",
    "# Positive integers list comprehension\n",
    "positive_lst = [num for num in lst if num >= 0]\n",
    "\n",
    "# Negative integers list comprehension\n",
    "negative_lst = [num for num in lst if num < 0]\n",
    "\n",
    "# Output the results\n",
    "print(\"Positive integers:\", positive_lst)\n",
    "print(\"Negative integers:\", negative_lst)"
   ]
  },
  {
   "cell_type": "code",
   "execution_count": null,
   "id": "26d74a76",
   "metadata": {},
   "outputs": [],
   "source": []
  }
 ],
 "metadata": {
  "kernelspec": {
   "display_name": "Python 3",
   "language": "python",
   "name": "python3"
  },
  "language_info": {
   "codemirror_mode": {
    "name": "ipython",
    "version": 3
   },
   "file_extension": ".py",
   "mimetype": "text/x-python",
   "name": "python",
   "nbconvert_exporter": "python",
   "pygments_lexer": "ipython3",
   "version": "3.8.8"
  }
 },
 "nbformat": 4,
 "nbformat_minor": 5
}
