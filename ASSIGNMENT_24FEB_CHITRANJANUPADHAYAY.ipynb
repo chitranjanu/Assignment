{
 "cells": [
  {
   "cell_type": "code",
   "execution_count": 1,
   "id": "d0742af3",
   "metadata": {},
   "outputs": [
    {
     "ename": "SyntaxError",
     "evalue": "invalid syntax (<ipython-input-1-b57439fcefad>, line 2)",
     "output_type": "error",
     "traceback": [
      "\u001b[1;36m  File \u001b[1;32m\"<ipython-input-1-b57439fcefad>\"\u001b[1;36m, line \u001b[1;32m2\u001b[0m\n\u001b[1;33m    Here are five functions of the Pandas library with execution:\u001b[0m\n\u001b[1;37m         ^\u001b[0m\n\u001b[1;31mSyntaxError\u001b[0m\u001b[1;31m:\u001b[0m invalid syntax\n"
     ]
    }
   ],
   "source": [
    "# Answer1.\n",
    "Here are five functions of the Pandas library with execution:\n",
    "\n",
    "read_csv(): This function reads a CSV file and returns a DataFrame object.\n",
    "import pandas as pd\n",
    "\n",
    "data = pd.read_csv('data.csv')\n",
    "head(): This function returns the first n rows of a DataFrame object.\n",
    "import pandas as pd\n",
    "\n",
    "data = pd.read_csv('data.csv')\n",
    "print(data.head(10))\n",
    "tail(): This function returns the last n rows of a DataFrame object.\n",
    "import pandas as pd\n",
    "\n",
    "data = pd.read_csv('data.csv')\n",
    "print(data.tail(10))\n",
    "describe(): This function returns a statistical summary of a DataFrame object.\n",
    "import pandas as pd\n",
    "\n",
    "data = pd.read_csv('data.csv')\n",
    "print(data.describe())\n",
    "groupby(): This function groups data by one or more columns and applies a function to each group.\n",
    "import pandas as pd\n",
    "\n",
    "data = pd.read_csv('data.csv')\n",
    "grouped_data = data.groupby(['column1', 'column2']).mean()\n",
    "print(grouped_data)"
   ]
  },
  {
   "cell_type": "code",
   "execution_count": null,
   "id": "ac32a35a",
   "metadata": {},
   "outputs": [],
   "source": [
    "# Answer2.\n",
    "import pandas as pd\n",
    "\n",
    "df = pd.DataFrame({'A': [1, 2, 3], 'B': [4, 5, 6], 'C': [7, 8, 9]})\n",
    "new_index = pd.RangeIndex(start=1, stop=2*len(df), step=2)\n",
    "df = df.reindex(new_index)\n",
    "df"
   ]
  },
  {
   "cell_type": "code",
   "execution_count": 2,
   "id": "09499b6b",
   "metadata": {},
   "outputs": [
    {
     "name": "stdout",
     "output_type": "stream",
     "text": [
      "6\n"
     ]
    }
   ],
   "source": [
    "# Answer3.\n",
    "import pandas as pd\n",
    "\n",
    "df = pd.DataFrame({'Values': [1, 2, 3, 4, 5]})\n",
    "sum_of_first_three_values = df['Values'].iloc[:3].sum()\n",
    "print(sum_of_first_three_values)"
   ]
  },
  {
   "cell_type": "code",
   "execution_count": 3,
   "id": "97265e30",
   "metadata": {},
   "outputs": [
    {
     "name": "stdout",
     "output_type": "stream",
     "text": [
      "                            Text  Word_Count\n",
      "0            This is a sentence.           4\n",
      "1      This is another sentence.           4\n",
      "2  And this is a third sentence.           6\n"
     ]
    }
   ],
   "source": [
    "# Answer4.\n",
    "import pandas as pd\n",
    "\n",
    "df = pd.DataFrame({'Text': ['This is a sentence.', 'This is another sentence.', 'And this is a third sentence.']})\n",
    "df['Word_Count'] = df['Text'].apply(lambda x: len(str(x).split(' ')))\n",
    "print(df)"
   ]
  },
  {
   "cell_type": "code",
   "execution_count": 5,
   "id": "8a0e8cd0",
   "metadata": {},
   "outputs": [
    {
     "name": "stdout",
     "output_type": "stream",
     "text": [
      "6\n",
      "(3, 2)\n"
     ]
    }
   ],
   "source": [
    "# Answer5.\n",
    "'''The size() function of Pandas DataFrame returns the total number of elements in the DataFrame, which is equivalent to the product of the number of rows and columns in the DataFrame 12. On the other hand, the shape() function returns a tuple containing the number of rows and columns in the DataFrame 312.\n",
    "\n",
    "Here’s an example:'''\n",
    "\n",
    "import pandas as pd\n",
    "\n",
    "df = pd.DataFrame({'A': [1, 2, 3], 'B': [4, 5, 6]})\n",
    "print(df.size)   # Output: 6\n",
    "print(df.shape)  # Output: (3, 2)"
   ]
  },
  {
   "cell_type": "code",
   "execution_count": null,
   "id": "ebbf428d",
   "metadata": {},
   "outputs": [],
   "source": [
    "# Answer6.\n",
    "'''To read an Excel file in Pandas, we use the read_excel()'''\n",
    "\n",
    "import pandas as pd\n",
    "\n",
    "df = pd.read_excel(\"data.xlsx\")"
   ]
  },
  {
   "cell_type": "code",
   "execution_count": 7,
   "id": "0dc82cdb",
   "metadata": {},
   "outputs": [
    {
     "name": "stdout",
     "output_type": "stream",
     "text": [
      "               Email Username\n",
      "0   jane@example.com     jane\n",
      "1   john@example.com     john\n",
      "2  susan@example.com    susan\n"
     ]
    }
   ],
   "source": [
    "# Answer7.\n",
    "\n",
    "import pandas as pd\n",
    "\n",
    "def extract_username(df):\n",
    "    # extract the username from each email address using str.split()\n",
    "    usernames = df['Email'].str.split('@').str[0]\n",
    "    # add the usernames as a new column in the DataFrame\n",
    "    df['Username'] = usernames\n",
    "    return df\n",
    "df = pd.DataFrame({'Email': ['jane@example.com', 'john@example.com', 'susan@example.com']})\n",
    "df = extract_username(df)\n",
    "print(df)"
   ]
  },
  {
   "cell_type": "code",
   "execution_count": 8,
   "id": "cf94c5c0",
   "metadata": {},
   "outputs": [
    {
     "name": "stdout",
     "output_type": "stream",
     "text": [
      "   A  B  C\n",
      "1  6  8  7\n",
      "2  7  3  4\n"
     ]
    }
   ],
   "source": [
    "# Answer8.\n",
    "import pandas as pd\n",
    "\n",
    "def select_rows(df):\n",
    "    # select rows where value in column 'A' is greater than 5 and value in column 'B' is less than 10\n",
    "    selected_rows = df[(df['A'] > 5) & (df['B'] < 10)]\n",
    "    # return the new DataFrame containing only selected rows\n",
    "    return selected_rows\n",
    "\n",
    "df = pd.DataFrame({'A': [1, 6, 7, 4], 'B': [2, 8, 3, 5], 'C': [9, 7, 4, 2]})\n",
    "selected_df = select_rows(df)\n",
    "print(selected_df)"
   ]
  }
 ],
 "metadata": {
  "kernelspec": {
   "display_name": "Python 3",
   "language": "python",
   "name": "python3"
  },
  "language_info": {
   "codemirror_mode": {
    "name": "ipython",
    "version": 3
   },
   "file_extension": ".py",
   "mimetype": "text/x-python",
   "name": "python",
   "nbconvert_exporter": "python",
   "pygments_lexer": "ipython3",
   "version": "3.8.8"
  }
 },
 "nbformat": 4,
 "nbformat_minor": 5
}
