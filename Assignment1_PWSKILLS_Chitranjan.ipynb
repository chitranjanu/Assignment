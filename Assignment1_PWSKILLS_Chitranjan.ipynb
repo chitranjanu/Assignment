{
 "cells": [
  {
   "cell_type": "code",
   "execution_count": 1,
   "id": "dda3f632",
   "metadata": {},
   "outputs": [
    {
     "name": "stdout",
     "output_type": "stream",
     "text": [
      "[1, 3, 5, 7, 9, 11, 13, 15, 17, 19, 21, 23, 25]\n"
     ]
    }
   ],
   "source": [
    "# Answer1.  Def is the keyword used to create a function.\n",
    "\n",
    "def odd_func():\n",
    "    l = []\n",
    "    for i in range(1,26):\n",
    "        if i%2 != 0:\n",
    "            l.append(i)\n",
    "    print(l)\n",
    "\n",
    "odd_func()\n",
    "\n"
   ]
  },
  {
   "cell_type": "code",
   "execution_count": 2,
   "id": "ed57f2e9",
   "metadata": {},
   "outputs": [
    {
     "name": "stdout",
     "output_type": "stream",
     "text": [
      "Sum: 8\n",
      "Sum: 24\n",
      "['Google uses Angular', 'Facebook uses react', 'Microsoft uses .NET']\n"
     ]
    }
   ],
   "source": [
    "# Answer2. We use *args and **kwargs as an argument when we are unsure about the number of arguments to pass in the functions.\n",
    "\n",
    "#                                      *ARGS\n",
    "    \n",
    "# Python has *args which allow us to pass the variable number of non keyword arguments to function.\n",
    "\n",
    "# Eg.    \n",
    "\n",
    "def adder(*num):\n",
    "    sum = 0 \n",
    "    \n",
    "    for n in num: \n",
    "        sum = sum + n \n",
    "        \n",
    "    print(\"Sum:\", sum)\n",
    "\n",
    "adder(3,5)\n",
    "adder(4,9,11)\n",
    "\n",
    "#                                      **KWARGS\n",
    "# Python has  **kwargs, it allows us to pass the variable length of keyword arguments to the function.\n",
    "\n",
    "# Eg. \n",
    "def whatTechTheyUse(**kwargs):\n",
    "    result = []\n",
    "    for key, value in kwargs.items():\n",
    "        result.append(\"{} uses {}\".format(key, value))\n",
    "    return result\n",
    " \n",
    "print(whatTechTheyUse(Google='Angular', Facebook='react', Microsoft='.NET'))"
   ]
  },
  {
   "cell_type": "code",
   "execution_count": 4,
   "id": "89bdc1d2",
   "metadata": {},
   "outputs": [
    {
     "name": "stdout",
     "output_type": "stream",
     "text": [
      "2\n",
      "4\n",
      "6\n",
      "8\n",
      "10\n"
     ]
    }
   ],
   "source": [
    "# Answer3. Iterator in Python is an object that is used to iterate over iterable objects like lists, tuples, dicts, and sets.\n",
    "# The iterator object is initialized using the iter() method. It uses the next() method for iteration.\n",
    "\n",
    "# Eg.  \n",
    "\n",
    "my_list = [2,4,6,8,10,12,14,16,18,20]\n",
    "ch_iter = iter(my_list)\n",
    "print(next(ch_iter))\n",
    "print(next(ch_iter))\n",
    "print(next(ch_iter))\n",
    "print(next(ch_iter))\n",
    "print(next(ch_iter))\n",
    "\n",
    "\n"
   ]
  },
  {
   "cell_type": "code",
   "execution_count": 6,
   "id": "1c66f8dd",
   "metadata": {},
   "outputs": [
    {
     "name": "stdout",
     "output_type": "stream",
     "text": [
      "1\n",
      "2\n",
      "3\n"
     ]
    }
   ],
   "source": [
    "# Answer4. A generator-function is defined like a normal function, but whenever it needs to generate a value, \n",
    "# it does so with the yield keyword rather than return.  \n",
    "# The Yield keyword in Python is similar to a return statement used for returning values or objects in Python. \n",
    "\n",
    "def simpleGeneratorFun():\n",
    "    yield 1           \n",
    "    yield 2           \n",
    "    yield 3           \n",
    "  \n",
    "for value in simpleGeneratorFun():\n",
    "    print(value)"
   ]
  },
  {
   "cell_type": "code",
   "execution_count": 9,
   "id": "ce9348bf",
   "metadata": {},
   "outputs": [
    {
     "name": "stdout",
     "output_type": "stream",
     "text": [
      "2\n",
      "3\n",
      "5\n",
      "7\n",
      "11\n",
      "13\n",
      "17\n",
      "19\n",
      "23\n",
      "29\n",
      "31\n",
      "37\n",
      "41\n",
      "43\n",
      "47\n",
      "53\n",
      "59\n",
      "61\n",
      "67\n",
      "71\n"
     ]
    }
   ],
   "source": [
    "# Answer5. \n",
    "\n",
    "from math import sqrt\n",
    "\n",
    "def is_prime(n):\n",
    "    if (n <= 1):\n",
    "        return False\n",
    "    if (n == 2):\n",
    "        return True\n",
    "    if (n % 2 == 0):\n",
    "        return False\n",
    "\n",
    "    i = 3\n",
    "    while i <= sqrt(n):\n",
    "        if n % i == 0:\n",
    "            return False\n",
    "        i = i + 2\n",
    "\n",
    "    return True\n",
    "\n",
    "def prime_generator():\n",
    "    n = 1\n",
    "    while True:\n",
    "        n += 1\n",
    "        if is_prime(n):\n",
    "            yield n\n",
    "            \n",
    "generator = prime_generator()\n",
    "\n",
    "for i in range(20):\n",
    "    print(next(generator))"
   ]
  },
  {
   "cell_type": "code",
   "execution_count": 11,
   "id": "12843607",
   "metadata": {},
   "outputs": [
    {
     "name": "stdout",
     "output_type": "stream",
     "text": [
      "0\n",
      "1\n",
      "1\n",
      "2\n",
      "3\n",
      "5\n",
      "8\n",
      "13\n",
      "21\n",
      "34\n"
     ]
    }
   ],
   "source": [
    "# Answer6.                             FIBONACI SERIES \n",
    "\n",
    "n = 1 \n",
    "a = 0 \n",
    "b = 1 \n",
    "\n",
    "while(n<11):\n",
    "    print(a)\n",
    "    c = a + b \n",
    "    a = b \n",
    "    b = c \n",
    "    n = n + 1"
   ]
  },
  {
   "cell_type": "code",
   "execution_count": 13,
   "id": "ebdac867",
   "metadata": {},
   "outputs": [
    {
     "name": "stdout",
     "output_type": "stream",
     "text": [
      "['p', 'w', 's', 'k', 'i', 'l', 'l', 's']\n"
     ]
    }
   ],
   "source": [
    "# Answer7                                   LIST COMPREHENSION\n",
    "pw_list = [letter for letter in 'pwskills']\n",
    "print(pw_list)"
   ]
  },
  {
   "cell_type": "code",
   "execution_count": 16,
   "id": "5c9eba6f",
   "metadata": {},
   "outputs": [
    {
     "name": "stdout",
     "output_type": "stream",
     "text": [
      "Enter a number: 1134\n",
      "Not Palindrome\n"
     ]
    }
   ],
   "source": [
    "# Answer8                                   PALINDROME \n",
    "\n",
    "num = input(\"Enter a number: \")\n",
    "rev = num[::-1]\n",
    "\n",
    "if (num==rev):\n",
    "    print(\"Palindrome\")\n",
    "else: \n",
    "    print(\"Not Palindrome\")\n",
    "\n",
    "    "
   ]
  },
  {
   "cell_type": "code",
   "execution_count": 20,
   "id": "4ccfe411",
   "metadata": {},
   "outputs": [
    {
     "name": "stdout",
     "output_type": "stream",
     "text": [
      "[1, 3, 5, 7, 9, 11, 13, 15, 17, 19, 21, 23, 25, 27, 29, 31, 33, 35, 37, 39, 41, 43, 45, 47, 49, 51, 53, 55, 57, 59, 61, 63, 65, 67, 69, 71, 73, 75, 77, 79, 81, 83, 85, 87, 89, 91, 93, 95, 97, 99]\n"
     ]
    }
   ],
   "source": [
    "# Answer9                                    ODD NUMBER\n",
    "\n",
    "my_list  = list(range(1,101))\n",
    "\n",
    "\n",
    "only_odd = [num for num in my_list if num%2 == 1]\n",
    "print(only_odd)"
   ]
  },
  {
   "cell_type": "code",
   "execution_count": null,
   "id": "bd9d593d",
   "metadata": {},
   "outputs": [],
   "source": []
  }
 ],
 "metadata": {
  "kernelspec": {
   "display_name": "Python 3",
   "language": "python",
   "name": "python3"
  },
  "language_info": {
   "codemirror_mode": {
    "name": "ipython",
    "version": 3
   },
   "file_extension": ".py",
   "mimetype": "text/x-python",
   "name": "python",
   "nbconvert_exporter": "python",
   "pygments_lexer": "ipython3",
   "version": "3.8.8"
  }
 },
 "nbformat": 4,
 "nbformat_minor": 5
}
